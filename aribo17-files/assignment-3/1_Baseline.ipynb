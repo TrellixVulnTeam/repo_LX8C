{
 "cells": [
  {
   "cell_type": "markdown",
   "metadata": {},
   "source": [
    "# Assignment 3 - Part 1"
   ]
  },
  {
   "cell_type": "code",
   "execution_count": 29,
   "metadata": {
    "collapsed": false
   },
   "outputs": [],
   "source": [
    "import urllib\n",
    "import requests\n",
    "import json\n",
    "import csv\n"
   ]
  },
  {
   "cell_type": "code",
   "execution_count": 30,
   "metadata": {
    "collapsed": true
   },
   "outputs": [],
   "source": [
    "API = \"http://gustav1.ux.uis.no:5002\""
   ]
  },
  {
   "cell_type": "markdown",
   "metadata": {},
   "source": [
    "Issuing a search query againt the API"
   ]
  },
  {
   "cell_type": "code",
   "execution_count": 31,
   "metadata": {
    "collapsed": false
   },
   "outputs": [],
   "source": [
    "def search(indexname, query, field, size=10):\n",
    "    url = \"/\".join([API, indexname, \"_search\"]) + \"?\" \\\n",
    "          + urllib.parse.urlencode({\"q\": query, \"df\": field, \"size\": size})\n",
    "    response = requests.get(url).text\n",
    "    return json.loads(response)"
   ]
  },
  {
   "cell_type": "markdown",
   "metadata": {},
   "source": [
    "Printing results for a given search query"
   ]
  },
  {
   "cell_type": "code",
   "execution_count": 32,
   "metadata": {
    "collapsed": false
   },
   "outputs": [],
   "source": [
    "# res = search(\"clueweb12b\", \"united states\", \"content\", size=5)\n",
    "# for r in res.get(\"hits\", {}).get(\"hits\", {}):\n",
    "#     print(\"{} {}\".format(r[\"_id\"], r[\"_score\"]))"
   ]
  },
  {
   "cell_type": "markdown",
   "metadata": {},
   "source": [
    "## TODOs:\n",
    "\n",
    "- Retrieve results for all queries (in `data/queries.txt`)\n",
    "- Do it for both `title` and `content` fields (separately) and write the output to files\n",
    "- Evaluate the results against the relevance judgments (in `data/qrels.csv`) in terms of NDCG@10 and NDCG@20"
   ]
  },
  {
   "cell_type": "code",
   "execution_count": 33,
   "metadata": {
    "collapsed": true
   },
   "outputs": [],
   "source": [
    "QUERY_FILE = \"data/queries.txt\" \n",
    "OUTPUT_FILE = \"data/baseline_title.txt\"\n",
    "OUTPUT_FILE_2 = \"data/baseline_content.txt\"\n",
    "QRELS = \"data/qrels.csv\""
   ]
  },
  {
   "cell_type": "code",
   "execution_count": 34,
   "metadata": {
    "collapsed": false
   },
   "outputs": [],
   "source": [
    "def load_queries(filename):\n",
    "    with open(filename, 'rt') as fin:\n",
    "        queries = {}\n",
    "        for line in fin.readlines():\n",
    "            qid, query = line.strip().split(\" \", 1)\n",
    "            queries[qid] = query\n",
    "    return queries    "
   ]
  },
  {
   "cell_type": "code",
   "execution_count": 35,
   "metadata": {
    "collapsed": false,
    "scrolled": true
   },
   "outputs": [
    {
     "data": {
      "text/plain": [
       "{'201': 'raspberry pi',\n",
       " '202': 'uss carl vinson',\n",
       " '203': 'reviews of les miserables',\n",
       " '204': 'rules of golf',\n",
       " '205': 'average charitable donation',\n",
       " '206': 'wind power',\n",
       " '207': 'bph treatment',\n",
       " '208': 'doctor zhivago',\n",
       " '209': 'land surveyor',\n",
       " '210': 'golf gps',\n",
       " '211': 'what is madagascar known for',\n",
       " '212': 'home theater systems',\n",
       " '213': 'carpal tunnel syndrome',\n",
       " '214': 'capital gains tax rate',\n",
       " '215': 'maryland department of natural resources',\n",
       " '216': 'nicolas cage movies',\n",
       " '217': 'kids earth day activities',\n",
       " '218': 'solar water fountains',\n",
       " '219': \"what was the name of elvis presley's home\",\n",
       " '220': 'nba records',\n",
       " '221': 'electoral college 2008 results',\n",
       " '222': 'male menopause',\n",
       " '223': 'usda food pyramid',\n",
       " '224': 'making chicken soup from scratch',\n",
       " '225': 'black and gold',\n",
       " '226': 'traverse city',\n",
       " '227': 'i will survive lyrics',\n",
       " '228': 'hawaiian volcano observatories',\n",
       " '229': 'beef stroganoff recipe',\n",
       " '230': \"world's biggest dog\",\n",
       " '231': 'what are the seven deadly sins',\n",
       " '232': 'hurricane Irene flooding in manville nj',\n",
       " '233': 'hair dye',\n",
       " '234': 'dark chocolate health benefits',\n",
       " '235': 'ham radio',\n",
       " '236': 'symptoms of mad cow disease in humans',\n",
       " '237': 'lump in throat',\n",
       " '238': 'george bush sr bio',\n",
       " '239': 'frank lloyd wright biography',\n",
       " '240': 'presidential middle names',\n",
       " '241': 'what is a wiki',\n",
       " '242': 'cannellini beans',\n",
       " '243': 'afghanistan flag',\n",
       " '244': 'old town scottsdale',\n",
       " '245': 'roosevelt island',\n",
       " '246': 'civil war battles in South Carolina',\n",
       " '247': 'rain man',\n",
       " '248': 'eggs shelf life',\n",
       " '249': 'occupational therapist',\n",
       " '250': 'ford edge problems'}"
      ]
     },
     "execution_count": 35,
     "metadata": {},
     "output_type": "execute_result"
    }
   ],
   "source": [
    "load_queries(QUERY_FILE)"
   ]
  },
  {
   "cell_type": "code",
   "execution_count": 36,
   "metadata": {
    "collapsed": false
   },
   "outputs": [],
   "source": [
    "def load_qrels(filename):\n",
    "    queries = {}\n",
    "    with open(filename, 'rt') as csvfile:\n",
    "        csvreader = csv.reader(csvfile, delimiter=',')\n",
    "        for i, row in enumerate(csvreader):\n",
    "            if i >0:\n",
    "                qid = row[0]\n",
    "                doc_id = row[1]\n",
    "                rel = row[2]\n",
    "                queries[qid] = {doc_id: rel}\n",
    "    return queries"
   ]
  },
  {
   "cell_type": "code",
   "execution_count": 37,
   "metadata": {
    "collapsed": false
   },
   "outputs": [],
   "source": [
    "gtruth=load_qrels(QRELS)"
   ]
  },
  {
   "cell_type": "code",
   "execution_count": 52,
   "metadata": {
    "collapsed": false
   },
   "outputs": [],
   "source": [
    "def write_file(filename, field):\n",
    "    f = open(filename, 'w')\n",
    "    f.write('QueryId,DocumentId\\n')  \n",
    "    queries= {}\n",
    "    for q_id, query in load_queries(QUERY_FILE).items():\n",
    "        res = search(\"clueweb12b\", query, field, size=100)\n",
    "        for r in res.get(\"hits\", {}).get(\"hits\", {}):\n",
    "#             print(str(q_id) + \",\" + r[\"_id\"]+ '\\n')\n",
    "            queries[str(q_id)] = r[\"_id\"]\n",
    "            f.write(str(q_id) + \",\" + r[\"_id\"]+ '\\n')\n",
    "    f.close() \n",
    "    return queries"
   ]
  },
  {
   "cell_type": "code",
   "execution_count": 53,
   "metadata": {
    "collapsed": false
   },
   "outputs": [
    {
     "name": "stdout",
     "output_type": "stream",
     "text": [
      "{'201': 'clueweb12-0908wb-98-10600', '202': 'clueweb12-0109wb-05-28625', '203': 'clueweb12-0201wb-40-00755', '204': 'clueweb12-1102wb-77-16467', '205': 'clueweb12-0906wb-61-00511', '206': 'clueweb12-0303wb-55-01304', '207': 'clueweb12-1901wb-11-26808', '208': 'clueweb12-1003wb-80-10571', '209': 'clueweb12-0809wb-12-27431', '210': 'clueweb12-1303wb-14-01207', '211': 'clueweb12-0703wb-94-04778', '212': 'clueweb12-1806wb-97-27816', '213': 'clueweb12-1512wb-49-06549', '214': 'clueweb12-1100tw-78-02859', '215': 'clueweb12-0311wb-99-08583', '216': 'clueweb12-0500wb-02-05873', '217': 'clueweb12-1514wb-56-13231', '218': 'clueweb12-1910wb-15-06592', '219': 'clueweb12-0506wb-42-26106', '220': 'clueweb12-0816wb-30-13266', '221': 'clueweb12-1203wb-38-40639', '222': 'clueweb12-0008wb-53-15013', '223': 'clueweb12-1306wb-87-10712', '224': 'clueweb12-0106wb-01-13792', '225': 'clueweb12-0102wb-07-26372', '226': 'clueweb12-0203wb-03-16678', '227': 'clueweb12-1402wb-46-25430', '228': 'clueweb12-1907wb-54-13514', '229': 'clueweb12-0701wb-67-25652', '230': 'clueweb12-0101wb-06-30583', '231': 'clueweb12-1800wb-86-20615', '232': 'clueweb12-1400wb-13-10432', '233': 'clueweb12-1600tw-29-11458', '234': 'clueweb12-1812wb-28-21062', '235': 'clueweb12-1909wb-68-20801', '236': 'clueweb12-1501wb-16-16300', '237': 'clueweb12-0507wb-77-09095', '238': 'clueweb12-0011wb-05-14447', '239': 'clueweb12-1910wb-98-32132', '240': 'clueweb12-1504wb-73-17823', '241': 'clueweb12-1020wb-26-01933', '242': 'clueweb12-0211wb-46-20612', '243': 'clueweb12-0205wb-55-00854', '244': 'clueweb12-0005wb-44-22250', '245': 'clueweb12-1012wb-72-24199', '246': 'clueweb12-1411wb-12-14937', '247': 'clueweb12-1405wb-33-05416', '248': 'clueweb12-0400tw-60-06001', '249': 'clueweb12-0604wb-40-02107', '250': 'clueweb12-0402wb-05-09179'}\n"
     ]
    }
   ],
   "source": [
    "title=write_file(OUTPUT_FILE, \"title\")\n",
    "print(title)"
   ]
  },
  {
   "cell_type": "code",
   "execution_count": 40,
   "metadata": {
    "collapsed": false
   },
   "outputs": [],
   "source": [
    "write_file(OUTPUT_FILE_2, \"content\")"
   ]
  },
  {
   "cell_type": "code",
   "execution_count": 41,
   "metadata": {
    "collapsed": true
   },
   "outputs": [],
   "source": [
    "def dcg(rel, p):\n",
    "    dcg = rel[0]\n",
    "    for i in range(1, min(p, len(rel))): \n",
    "        dcg += rel[i] / math.log(i + 1, 2)  # rank position is indexed from 1..\n",
    "    return dcg\n",
    "\n",
    "    "
   ]
  },
  {
   "cell_type": "code",
   "execution_count": null,
   "metadata": {
    "collapsed": false
   },
   "outputs": [],
   "source": []
  },
  {
   "cell_type": "code",
   "execution_count": 42,
   "metadata": {
    "collapsed": false
   },
   "outputs": [
    {
     "name": "stdout",
     "output_type": "stream",
     "text": [
      "Query 201\n",
      "\tGains: [0, 0, 0, 0, 0, 0, 0, 0, 0, 0, 0, 0]\n",
      "\tIdeal gains: ['1']\n"
     ]
    },
    {
     "ename": "NameError",
     "evalue": "name 'math' is not defined",
     "output_type": "error",
     "traceback": [
      "\u001b[0;31m---------------------------------------------------------------------------\u001b[0m",
      "\u001b[0;31mNameError\u001b[0m                                 Traceback (most recent call last)",
      "\u001b[0;32m<ipython-input-42-757b4b399357>\u001b[0m in \u001b[0;36m<module>\u001b[0;34m()\u001b[0m\n\u001b[1;32m     16\u001b[0m     \u001b[0mprint\u001b[0m\u001b[1;33m(\u001b[0m\u001b[1;34m\"\\tIdeal gains:\"\u001b[0m\u001b[1;33m,\u001b[0m \u001b[0mgain_ideal\u001b[0m\u001b[1;33m)\u001b[0m\u001b[1;33m\u001b[0m\u001b[0m\n\u001b[1;32m     17\u001b[0m \u001b[1;33m\u001b[0m\u001b[0m\n\u001b[0;32m---> 18\u001b[0;31m     \u001b[0mndcg5\u001b[0m \u001b[1;33m=\u001b[0m \u001b[0mdcg\u001b[0m\u001b[1;33m(\u001b[0m\u001b[0mgains\u001b[0m\u001b[1;33m,\u001b[0m \u001b[1;36m5\u001b[0m\u001b[1;33m)\u001b[0m \u001b[1;33m/\u001b[0m \u001b[0mdcg\u001b[0m\u001b[1;33m(\u001b[0m\u001b[0mgain_ideal\u001b[0m\u001b[1;33m,\u001b[0m \u001b[1;36m5\u001b[0m\u001b[1;33m)\u001b[0m\u001b[1;33m\u001b[0m\u001b[0m\n\u001b[0m\u001b[1;32m     19\u001b[0m     \u001b[0mndcg10\u001b[0m \u001b[1;33m=\u001b[0m \u001b[0mdcg\u001b[0m\u001b[1;33m(\u001b[0m\u001b[0mgains\u001b[0m\u001b[1;33m,\u001b[0m \u001b[1;36m10\u001b[0m\u001b[1;33m)\u001b[0m \u001b[1;33m/\u001b[0m \u001b[0mdcg\u001b[0m\u001b[1;33m(\u001b[0m\u001b[0mgain_ideal\u001b[0m\u001b[1;33m,\u001b[0m \u001b[1;36m10\u001b[0m\u001b[1;33m)\u001b[0m\u001b[1;33m\u001b[0m\u001b[0m\n\u001b[1;32m     20\u001b[0m     \u001b[0msum_ndcg5\u001b[0m \u001b[1;33m+=\u001b[0m \u001b[0mndcg5\u001b[0m\u001b[1;33m\u001b[0m\u001b[0m\n",
      "\u001b[0;32m<ipython-input-41-523212d7ae77>\u001b[0m in \u001b[0;36mdcg\u001b[0;34m(rel, p)\u001b[0m\n\u001b[1;32m      2\u001b[0m     \u001b[0mdcg\u001b[0m \u001b[1;33m=\u001b[0m \u001b[0mrel\u001b[0m\u001b[1;33m[\u001b[0m\u001b[1;36m0\u001b[0m\u001b[1;33m]\u001b[0m\u001b[1;33m\u001b[0m\u001b[0m\n\u001b[1;32m      3\u001b[0m     \u001b[1;32mfor\u001b[0m \u001b[0mi\u001b[0m \u001b[1;32min\u001b[0m \u001b[0mrange\u001b[0m\u001b[1;33m(\u001b[0m\u001b[1;36m1\u001b[0m\u001b[1;33m,\u001b[0m \u001b[0mmin\u001b[0m\u001b[1;33m(\u001b[0m\u001b[0mp\u001b[0m\u001b[1;33m,\u001b[0m \u001b[0mlen\u001b[0m\u001b[1;33m(\u001b[0m\u001b[0mrel\u001b[0m\u001b[1;33m)\u001b[0m\u001b[1;33m)\u001b[0m\u001b[1;33m)\u001b[0m\u001b[1;33m:\u001b[0m\u001b[1;33m\u001b[0m\u001b[0m\n\u001b[0;32m----> 4\u001b[0;31m         \u001b[0mdcg\u001b[0m \u001b[1;33m+=\u001b[0m \u001b[0mrel\u001b[0m\u001b[1;33m[\u001b[0m\u001b[0mi\u001b[0m\u001b[1;33m]\u001b[0m \u001b[1;33m/\u001b[0m \u001b[0mmath\u001b[0m\u001b[1;33m.\u001b[0m\u001b[0mlog\u001b[0m\u001b[1;33m(\u001b[0m\u001b[0mi\u001b[0m \u001b[1;33m+\u001b[0m \u001b[1;36m1\u001b[0m\u001b[1;33m,\u001b[0m \u001b[1;36m2\u001b[0m\u001b[1;33m)\u001b[0m  \u001b[1;31m# rank position is indexed from 1..\u001b[0m\u001b[1;33m\u001b[0m\u001b[0m\n\u001b[0m\u001b[1;32m      5\u001b[0m     \u001b[1;32mreturn\u001b[0m \u001b[0mdcg\u001b[0m\u001b[1;33m\u001b[0m\u001b[0m\n\u001b[1;32m      6\u001b[0m \u001b[1;33m\u001b[0m\u001b[0m\n",
      "\u001b[0;31mNameError\u001b[0m: name 'math' is not defined"
     ]
    }
   ],
   "source": [
    "sum_ndcg10 = 0\n",
    "sum_ndcg20 = 0\n",
    "\n",
    "for qid, query in sorted(load_queries(QUERY_FILE).items()):\n",
    "    gt = gtruth[qid]    \n",
    "    print(\"Query\", qid)\n",
    "    \n",
    "    gains = [] # holds corresponding relevance levels for the ranked docs\n",
    "    for doc_id in query: \n",
    "        gain = gt.get(doc_id, 0)\n",
    "        gains.append(gain)\n",
    "    print(\"\\tGains:\", gains)\n",
    "    \n",
    "    # relevance levels of the idealized ranking\n",
    "    gain_ideal = sorted([v for _, v in gt.items()], reverse=True)\n",
    "    print(\"\\tIdeal gains:\", gain_ideal)\n",
    "    \n",
    "    ndcg5 = dcg(gains, 5) / dcg(gain_ideal, 5)\n",
    "    ndcg10 = dcg(gains, 10) / dcg(gain_ideal, 10)\n",
    "    sum_ndcg5 += ndcg5\n",
    "    sum_ndcg10 += ndcg10\n",
    "    \n",
    "    print(\"\\tNDCG@5:\", round(ndcg5, 3), \"\\n\\tNDCG@10:\", round(ndcg10, 3))\n",
    "\n",
    "print(\"Average\")\n",
    "print(\"\\tNDCG@5:\", round(sum_ndcg5 / len(rankings), 3), \"\\n\\tNDCG@10:\", round(sum_ndcg10 / len(rankings), 3))"
   ]
  }
 ],
 "metadata": {
  "kernelspec": {
   "display_name": "Python 3",
   "language": "python",
   "name": "python3"
  },
  "language_info": {
   "codemirror_mode": {
    "name": "ipython",
    "version": 3
   },
   "file_extension": ".py",
   "mimetype": "text/x-python",
   "name": "python",
   "nbconvert_exporter": "python",
   "pygments_lexer": "ipython3",
   "version": "3.6.0"
  }
 },
 "nbformat": 4,
 "nbformat_minor": 2
}
