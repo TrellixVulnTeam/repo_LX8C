{
 "cells": [
  {
   "cell_type": "markdown",
   "metadata": {},
   "source": [
    "# Practicum 5: Classification\n",
    "\n"
   ]
  },
  {
   "cell_type": "markdown",
   "metadata": {},
   "source": [
    "## Task 1: Learning a Decision Tree \n",
    "\n",
    "  - Obtain the impurity measurements of a node. \n",
    "  - Implement simple splitting procedures.\n",
    "  - Calculate the information gain for possible splittings, and decide for the best. "
   ]
  },
  {
   "cell_type": "markdown",
   "metadata": {},
   "source": [
    "### Preliminaries"
   ]
  },
  {
   "cell_type": "markdown",
   "metadata": {},
   "source": [
    "In this task we work with the dataset used in the exercise from the last lecture.\n",
    "Given observations on some weather properties, we learnt a decision tree to predict if we can play outside."
   ]
  },
  {
   "cell_type": "markdown",
   "metadata": {},
   "source": [
    "We will use the **csv** module for reading in data from a file."
   ]
  },
  {
   "cell_type": "code",
   "execution_count": 1,
   "metadata": {
    "collapsed": true
   },
   "outputs": [],
   "source": [
    "import csv"
   ]
  },
  {
   "cell_type": "markdown",
   "metadata": {},
   "source": [
    "The data set is, as usual, stored in a comma-separated text file.\n",
    "\n",
    "We read it and store it as a list of records, where each record is represented using a dict."
   ]
  },
  {
   "cell_type": "code",
   "execution_count": 4,
   "metadata": {
    "collapsed": false
   },
   "outputs": [
    {
     "ename": "TypeError",
     "evalue": "'play_data' is an invalid keyword argument for this function",
     "output_type": "error",
     "traceback": [
      "\u001b[0;31m---------------------------------------------------------------------------\u001b[0m",
      "\u001b[0;31mTypeError\u001b[0m                                 Traceback (most recent call last)",
      "\u001b[0;32m<ipython-input-4-6022590597e7>\u001b[0m in \u001b[0;36m<module>\u001b[0;34m()\u001b[0m\n\u001b[1;32m     14\u001b[0m     \u001b[1;32mreturn\u001b[0m \u001b[0mrecords\u001b[0m\u001b[1;33m\u001b[0m\u001b[0m\n\u001b[1;32m     15\u001b[0m \u001b[1;33m\u001b[0m\u001b[0m\n\u001b[0;32m---> 16\u001b[0;31m \u001b[0mprint\u001b[0m\u001b[1;33m(\u001b[0m\u001b[0mplay_data\u001b[0m \u001b[1;33m=\u001b[0m \u001b[0mload_play_data\u001b[0m\u001b[1;33m(\u001b[0m\u001b[1;34m\"data/dt_play.data.csv\"\u001b[0m\u001b[1;33m)\u001b[0m\u001b[1;33m)\u001b[0m\u001b[1;33m\u001b[0m\u001b[0m\n\u001b[0m",
      "\u001b[0;31mTypeError\u001b[0m: 'play_data' is an invalid keyword argument for this function"
     ]
    }
   ],
   "source": [
    "def load_play_data(filename):\n",
    "    records = []\n",
    "    with open(filename, 'rt') as csvfile:\n",
    "        csvreader = csv.reader(csvfile, delimiter=',')\n",
    "        for row in csvreader:\n",
    "            if len(row) == 5:  # if we have 4 fields in that line\n",
    "                records.append({\n",
    "                    \"Outlook\": row[0],\n",
    "                    \"Temp\": float(row[1]),\n",
    "                    \"Humidity\": float(row[2]),\n",
    "                    \"Windy\": row[3],\n",
    "                    \"Target\": row[4]\n",
    "                })\n",
    "    return records\n",
    "\n",
    "play_data = load_play_data(\"data/dt_play.data.csv\")"
   ]
  },
  {
   "cell_type": "markdown",
   "metadata": {},
   "source": [
    "We can get all the possible values for the attribute \"Outlook\"."
   ]
  },
  {
   "cell_type": "code",
   "execution_count": 3,
   "metadata": {
    "collapsed": false
   },
   "outputs": [
    {
     "name": "stdout",
     "output_type": "stream",
     "text": [
      "{'overcast', 'sunny', 'rain'}\n"
     ]
    }
   ],
   "source": [
    "(set([x[\"Outlook\"] for x in play_data]))"
   ]
  },
  {
   "cell_type": "markdown",
   "metadata": {},
   "source": [
    "We can also select some records by their ID, to be the position by the order in the file.\n",
    "\n",
    "For example, we can select the records to be associated with the child of the root reached by the condition \"sunny\" if it is splitting by \"Outlook\" (i.e., records for the call 2.1 in the exercise)."
   ]
  },
  {
   "cell_type": "code",
   "execution_count": 7,
   "metadata": {
    "collapsed": false
   },
   "outputs": [
    {
     "name": "stdout",
     "output_type": "stream",
     "text": [
      "[{'Outlook': 'sunny', 'Temp': 85.0, 'Humidity': 85.0, 'Windy': 'false', 'Target': 'No'}, {'Outlook': 'sunny', 'Temp': 80.0, 'Humidity': 90.0, 'Windy': 'true', 'Target': 'No'}, {'Outlook': 'sunny', 'Temp': 72.0, 'Humidity': 95.0, 'Windy': 'false', 'Target': 'No'}, {'Outlook': 'sunny', 'Temp': 69.0, 'Humidity': 70.0, 'Windy': 'false', 'Target': 'Yes'}, {'Outlook': 'sunny', 'Temp': 75.0, 'Humidity': 70.0, 'Windy': 'true', 'Target': 'Yes'}]\n"
     ]
    }
   ],
   "source": [
    "[play_data[i] for i in range(len(play_data)) if i in {0, 1, 7, 8, 10}]  # {1, 2, 8, 9, 11} shifted one to the left"
   ]
  },
  {
   "cell_type": "markdown",
   "metadata": {},
   "source": [
    "This records list is, of course, the same as this one, just selecting the records by that attribute value from the entire dataset."
   ]
  },
  {
   "cell_type": "code",
   "execution_count": 6,
   "metadata": {
    "collapsed": false
   },
   "outputs": [
    {
     "name": "stdout",
     "output_type": "stream",
     "text": [
      "[{'Outlook': 'sunny', 'Temp': 85.0, 'Humidity': 85.0, 'Windy': 'false', 'Target': 'No'}, {'Outlook': 'sunny', 'Temp': 80.0, 'Humidity': 90.0, 'Windy': 'true', 'Target': 'No'}, {'Outlook': 'sunny', 'Temp': 72.0, 'Humidity': 95.0, 'Windy': 'false', 'Target': 'No'}, {'Outlook': 'sunny', 'Temp': 69.0, 'Humidity': 70.0, 'Windy': 'false', 'Target': 'Yes'}, {'Outlook': 'sunny', 'Temp': 75.0, 'Humidity': 70.0, 'Windy': 'true', 'Target': 'Yes'}]\n"
     ]
    }
   ],
   "source": [
    "#[x for x in play_data if x[\"Outlook\"] == \"sunny\"]"
   ]
  },
  {
   "cell_type": "markdown",
   "metadata": {},
   "source": [
    "### Impurity Measures: Entropy"
   ]
  },
  {
   "cell_type": "markdown",
   "metadata": {},
   "source": [
    "Define the entropy of (the classes distribution of a list of records associated with) a node.\n",
    "\n",
    "The **entropy** for a node $t$ and $c$ classes is $\\mathrm{Entropy}(t) = -\\sum_{i=0}^{c-1}P(i|t)log_2 P(i|t)$ ."
   ]
  },
  {
   "cell_type": "code",
   "execution_count": 12,
   "metadata": {
    "collapsed": false
   },
   "outputs": [],
   "source": [
    "import math\n",
    "from collections import Counter\n",
    "def entropy(records):\n",
    "    \"\"\"Entropy of a list of records associated with a node.\"\"\"\n",
    "    # TODO\n",
    "    count = Counter([x[\"Target\"] for x in records])\n",
    "    return sum([(-freq/len(records)* math.log(freq/len(records), 2)) for freq in count.values()])\n",
    "\n",
    "    "
   ]
  },
  {
   "cell_type": "markdown",
   "metadata": {},
   "source": [
    "Obtain the entropy of the entire dataset (done in the exercise for the records associated to the root)."
   ]
  },
  {
   "cell_type": "code",
   "execution_count": 21,
   "metadata": {
    "collapsed": false
   },
   "outputs": [
    {
     "name": "stdout",
     "output_type": "stream",
     "text": [
      "[{'Outlook': 'sunny', 'Temp': 85.0, 'Humidity': 85.0, 'Windy': 'false', 'Target': 'No'}, {'Outlook': 'sunny', 'Temp': 80.0, 'Humidity': 90.0, 'Windy': 'true', 'Target': 'No'}, {'Outlook': 'overcast', 'Temp': 83.0, 'Humidity': 78.0, 'Windy': 'false', 'Target': 'Yes'}, {'Outlook': 'rain', 'Temp': 70.0, 'Humidity': 96.0, 'Windy': 'false', 'Target': 'Yes'}, {'Outlook': 'rain', 'Temp': 68.0, 'Humidity': 80.0, 'Windy': 'false', 'Target': 'Yes'}, {'Outlook': 'rain', 'Temp': 65.0, 'Humidity': 70.0, 'Windy': 'true', 'Target': 'No'}, {'Outlook': 'overcast', 'Temp': 64.0, 'Humidity': 65.0, 'Windy': 'true', 'Target': 'Yes'}, {'Outlook': 'sunny', 'Temp': 72.0, 'Humidity': 95.0, 'Windy': 'false', 'Target': 'No'}, {'Outlook': 'sunny', 'Temp': 69.0, 'Humidity': 70.0, 'Windy': 'false', 'Target': 'Yes'}, {'Outlook': 'rain', 'Temp': 75.0, 'Humidity': 80.0, 'Windy': 'false', 'Target': 'Yes'}, {'Outlook': 'sunny', 'Temp': 75.0, 'Humidity': 70.0, 'Windy': 'true', 'Target': 'Yes'}, {'Outlook': 'overcast', 'Temp': 72.0, 'Humidity': 90.0, 'Windy': 'true', 'Target': 'Yes'}, {'Outlook': 'overcast', 'Temp': 81.0, 'Humidity': 75.0, 'Windy': 'false', 'Target': 'Yes'}, {'Outlook': 'rain', 'Temp': 71.0, 'Humidity': 80.0, 'Windy': 'true', 'Target': 'No'}]\n"
     ]
    },
    {
     "data": {
      "text/plain": [
       "0.9402859586706309"
      ]
     },
     "execution_count": 21,
     "metadata": {},
     "output_type": "execute_result"
    }
   ],
   "source": [
    "# TODO\n",
    "\n",
    "entropy(play_data)"
   ]
  },
  {
   "cell_type": "markdown",
   "metadata": {},
   "source": [
    "### Splitting by a categorical attribute"
   ]
  },
  {
   "cell_type": "markdown",
   "metadata": {},
   "source": [
    "Define the following function to split a list of records by a given **categorical** attribute, using a partition of possible values as outcomes to the children."
   ]
  },
  {
   "cell_type": "code",
   "execution_count": 38,
   "metadata": {
    "collapsed": true
   },
   "outputs": [],
   "source": [
    "def split_categorical(records, attr_name, values_sets):\n",
    "    \"\"\"Splits a list of records by a given categorical attribute, using a partition of possible values.\n",
    "    \n",
    "    :param records: a list of records to split.\n",
    "    :param attr_name: the name of the categorical attribute.\n",
    "    :param values_sets: a partition list of sets A_i. Given the m possible values Vals(D) = {dj | j=1, ..., m} of the \\\n",
    "    attribute D, each A_i is a subset of possible values, such that all the A_i sets make a partition (mutually \\\n",
    "    disjoint, and the union of all is Vals(D)).\n",
    "    For example, when D=\"Outlook\", Vals(D) = {\"sunny\", \"overcast\", \"rain\"}, then a possible partition is \\\n",
    "    values_sets = [{\"sunny\"}, {\"overcast\", \"rain\"}].\n",
    "    Another possible partition is values_sets = [{\"sunny\"}, {\"overcast\"}, {\"rain\"}].\n",
    "    :return: a list of lists, each of these ones contains all the records associated with one of the children.\n",
    "    \"\"\"\n",
    "    children = []\n",
    "    # TODO\n",
    "    for a_i in values_sets:\n",
    "        child = [x for x in records if x[attr_name] in a_i]\n",
    "        children.append(child)\n",
    "    return children"
   ]
  },
  {
   "cell_type": "markdown",
   "metadata": {},
   "source": [
    "Obtain the records associated with each the children nodes after splitting the entire dataset by \"Outlook\" with its three possible values as partitions (just like in the exercise)."
   ]
  },
  {
   "cell_type": "code",
   "execution_count": 40,
   "metadata": {
    "collapsed": false,
    "scrolled": false
   },
   "outputs": [
    {
     "name": "stdout",
     "output_type": "stream",
     "text": [
      "[[{'Outlook': 'sunny', 'Temp': 85.0, 'Humidity': 85.0, 'Windy': 'false', 'Target': 'No'}, {'Outlook': 'sunny', 'Temp': 80.0, 'Humidity': 90.0, 'Windy': 'true', 'Target': 'No'}, {'Outlook': 'sunny', 'Temp': 72.0, 'Humidity': 95.0, 'Windy': 'false', 'Target': 'No'}, {'Outlook': 'sunny', 'Temp': 69.0, 'Humidity': 70.0, 'Windy': 'false', 'Target': 'Yes'}, {'Outlook': 'sunny', 'Temp': 75.0, 'Humidity': 70.0, 'Windy': 'true', 'Target': 'Yes'}], [{'Outlook': 'overcast', 'Temp': 83.0, 'Humidity': 78.0, 'Windy': 'false', 'Target': 'Yes'}, {'Outlook': 'rain', 'Temp': 70.0, 'Humidity': 96.0, 'Windy': 'false', 'Target': 'Yes'}, {'Outlook': 'rain', 'Temp': 68.0, 'Humidity': 80.0, 'Windy': 'false', 'Target': 'Yes'}, {'Outlook': 'rain', 'Temp': 65.0, 'Humidity': 70.0, 'Windy': 'true', 'Target': 'No'}, {'Outlook': 'overcast', 'Temp': 64.0, 'Humidity': 65.0, 'Windy': 'true', 'Target': 'Yes'}, {'Outlook': 'rain', 'Temp': 75.0, 'Humidity': 80.0, 'Windy': 'false', 'Target': 'Yes'}, {'Outlook': 'overcast', 'Temp': 72.0, 'Humidity': 90.0, 'Windy': 'true', 'Target': 'Yes'}, {'Outlook': 'overcast', 'Temp': 81.0, 'Humidity': 75.0, 'Windy': 'false', 'Target': 'Yes'}, {'Outlook': 'rain', 'Temp': 71.0, 'Humidity': 80.0, 'Windy': 'true', 'Target': 'No'}]]\n"
     ]
    }
   ],
   "source": [
    "# TODO\n",
    "children = split_categorical(play_data, \"Outlook\", [{\"sunny\"}, {\"overcast\", \"rain\"}])\n"
   ]
  },
  {
   "cell_type": "markdown",
   "metadata": {},
   "source": [
    "### Impurity Measures: Gini and Classification Error"
   ]
  },
  {
   "cell_type": "markdown",
   "metadata": {},
   "source": [
    "Define the Gini impurity of (the classes distribution of a list of records associated with) a node.\n",
    "\n",
    "The **Gini impurity** for a node $t$ and $c$ classes is $\\mathrm{Gini}(t) = 1-\\sum_{i=0}^{c-1}P(i|t)^2$ ."
   ]
  },
  {
   "cell_type": "code",
   "execution_count": 34,
   "metadata": {
    "collapsed": false
   },
   "outputs": [],
   "source": [
    "def gini(records):\n",
    "    \"\"\"Gini impurity of a list of records associated with a node.\"\"\"\n",
    "    # TODO\n",
    "    count = Counter([x[\"Target\"] for x in records])\n",
    "    pit = sum([(((freq/len(records))**2)) for freq in count.values()])\n",
    "    return (1-pit)\n",
    "    "
   ]
  },
  {
   "cell_type": "code",
   "execution_count": 35,
   "metadata": {
    "collapsed": false
   },
   "outputs": [
    {
     "data": {
      "text/plain": [
       "0.4591836734693877"
      ]
     },
     "execution_count": 35,
     "metadata": {},
     "output_type": "execute_result"
    }
   ],
   "source": [
    "# TODO\n",
    "gini(play_data)"
   ]
  },
  {
   "cell_type": "markdown",
   "metadata": {},
   "source": [
    "Define the classification error impurity of (the classes distribution of a list of records associated with) a node.\n",
    "\n",
    "The **classification error** for a node $t$ and $c$ classes is $\\mathrm{Classification~error}(t) = 1-\\max P(i|t)$ ."
   ]
  },
  {
   "cell_type": "markdown",
   "metadata": {},
   "source": [
    "We can verify the consistency with respect to entropy as a measurement of the impurity of the entire dataset. For this, get the Gini impurity for each child, and compare with the respective entropy measurements.\n",
    "  "
   ]
  },
  {
   "cell_type": "code",
   "execution_count": 36,
   "metadata": {
    "collapsed": true
   },
   "outputs": [],
   "source": [
    "def classif_error(records):\n",
    "    \"\"\"Classification error of a list of records associated with a node.\"\"\"\n",
    "    # TODO\n",
    "    count = Counter([x[\"Target\"] for x in records])\n",
    "    pit = max([((freq/len(records))) for freq in count.values()])\n",
    "    return (1-pit)"
   ]
  },
  {
   "cell_type": "markdown",
   "metadata": {},
   "source": [
    "Similarly as before, we can verify the consistency of the classification error with respect to the other impurities, in particular on the entire dataset. For this, get the classification error for each child, and compare with the respective measurements for previous impurities."
   ]
  },
  {
   "cell_type": "code",
   "execution_count": 37,
   "metadata": {
    "collapsed": false
   },
   "outputs": [
    {
     "data": {
      "text/plain": [
       "0.3571428571428571"
      ]
     },
     "execution_count": 37,
     "metadata": {},
     "output_type": "execute_result"
    }
   ],
   "source": [
    "# TODO\n",
    "classif_error(play_data)"
   ]
  },
  {
   "cell_type": "markdown",
   "metadata": {},
   "source": [
    "### Splitting by a numeric attribute"
   ]
  },
  {
   "cell_type": "markdown",
   "metadata": {},
   "source": [
    "Let's implement a simple way to split a **numeric** attribute in a binary split. As in the exercise, a fixed splitting point will be provided to lead to two children nodes:\n",
    "  - one in which all the records have for that attribute a value less than or equal to the splitting point,\n",
    "  - and the other one with the attribute value greater than the spitting point."
   ]
  },
  {
   "cell_type": "code",
   "execution_count": 49,
   "metadata": {
    "collapsed": false
   },
   "outputs": [],
   "source": [
    "def split_numeric_binary(records, attr_name, splitting_point):\n",
    "    \"\"\"Splits in a binary way -i.e., using a single splitting point- a list of records by a given numeric attribute.\n",
    "\n",
    "    :param records: a list of records to split.\n",
    "    :param attr_name: the name of the numeric attribute.\n",
    "    :param splitting_point: a single number to be splitting point, such that one child will have the records \\\n",
    "    for which the attribute value is less or equal than splitting_point, and the other the ones with values greater \\\n",
    "    than splitting_point.\n",
    "    E.g., 75 was the splitting point for the attrribute \"Temp\" and also for \"Humidity\".\n",
    "    :return: a list of lists, each list contains all the records associated with one child.\n",
    "    \"\"\"\n",
    "    children = []\n",
    "    # TODO\n",
    "    \n",
    "    children.append([x  for x in records if x[attr_name]<=splitting_point])\n",
    "    \n",
    "    children.append([x  for x in records if x[attr_name]>splitting_point])\n",
    "\n",
    "    \n",
    "    return children"
   ]
  },
  {
   "cell_type": "markdown",
   "metadata": {},
   "source": [
    "Obtain the records associated with each the children nodes after splitting the entire dataset by \"Humidity\" with 75 as the splitting point (just like in the exercise attempt)."
   ]
  },
  {
   "cell_type": "code",
   "execution_count": 51,
   "metadata": {
    "collapsed": false,
    "scrolled": false
   },
   "outputs": [
    {
     "name": "stdout",
     "output_type": "stream",
     "text": [
      "{'Outlook': 'rain', 'Temp': 65.0, 'Humidity': 70.0, 'Windy': 'true', 'Target': 'No'}\n",
      "{'Outlook': 'overcast', 'Temp': 64.0, 'Humidity': 65.0, 'Windy': 'true', 'Target': 'Yes'}\n",
      "{'Outlook': 'sunny', 'Temp': 69.0, 'Humidity': 70.0, 'Windy': 'false', 'Target': 'Yes'}\n",
      "{'Outlook': 'sunny', 'Temp': 75.0, 'Humidity': 70.0, 'Windy': 'true', 'Target': 'Yes'}\n",
      "{'Outlook': 'overcast', 'Temp': 81.0, 'Humidity': 75.0, 'Windy': 'false', 'Target': 'Yes'}\n",
      "{'Outlook': 'sunny', 'Temp': 85.0, 'Humidity': 85.0, 'Windy': 'false', 'Target': 'No'}\n",
      "{'Outlook': 'sunny', 'Temp': 80.0, 'Humidity': 90.0, 'Windy': 'true', 'Target': 'No'}\n",
      "{'Outlook': 'overcast', 'Temp': 83.0, 'Humidity': 78.0, 'Windy': 'false', 'Target': 'Yes'}\n",
      "{'Outlook': 'rain', 'Temp': 70.0, 'Humidity': 96.0, 'Windy': 'false', 'Target': 'Yes'}\n",
      "{'Outlook': 'rain', 'Temp': 68.0, 'Humidity': 80.0, 'Windy': 'false', 'Target': 'Yes'}\n",
      "{'Outlook': 'sunny', 'Temp': 72.0, 'Humidity': 95.0, 'Windy': 'false', 'Target': 'No'}\n",
      "{'Outlook': 'rain', 'Temp': 75.0, 'Humidity': 80.0, 'Windy': 'false', 'Target': 'Yes'}\n",
      "{'Outlook': 'overcast', 'Temp': 72.0, 'Humidity': 90.0, 'Windy': 'true', 'Target': 'Yes'}\n",
      "{'Outlook': 'rain', 'Temp': 71.0, 'Humidity': 80.0, 'Windy': 'true', 'Target': 'No'}\n"
     ]
    }
   ],
   "source": [
    "# TODO\n",
    "res = split_numeric_binary(play_data, 'Humidity', 75)\n",
    "for split in res:\n",
    "    for row in split:\n",
    "        print(row)\n"
   ]
  },
  {
   "cell_type": "markdown",
   "metadata": {},
   "source": [
    "### Information gain"
   ]
  },
  {
   "cell_type": "markdown",
   "metadata": {},
   "source": [
    "After seen that all the impurity measures behave similarly, we come back to use entropy so that we can define the **information gain** (the formula for it is in the exercise description)."
   ]
  },
  {
   "cell_type": "code",
   "execution_count": 57,
   "metadata": {
    "collapsed": false
   },
   "outputs": [],
   "source": [
    "def infogain(parent_records, children_records):\n",
    "    \"\"\"Information gain between a node and its children nodes.\n",
    "    \n",
    "    :param parent_records: list of records associated with the parent node.\n",
    "    :param children_records: list of lists, each list contains all the records associated with one child.\n",
    "    \"\"\"\n",
    "    # TODO\n",
    "    return entropy(parent_records)-sum([len(x)/len(parent_records)*entropy(x) for x in children_records])"
   ]
  },
  {
   "cell_type": "markdown",
   "metadata": {},
   "source": [
    "Get the infortion gain between the root and the children nodes after splitting the entire dataset by \"Outlook\" with its three possible values as partitions (just like in the exercise)."
   ]
  },
  {
   "cell_type": "code",
   "execution_count": 58,
   "metadata": {
    "collapsed": false
   },
   "outputs": [
    {
     "data": {
      "text/plain": [
       "0.2467498197744391"
      ]
     },
     "execution_count": 58,
     "metadata": {},
     "output_type": "execute_result"
    }
   ],
   "source": [
    "# TODO\n",
    "infogain(play_data, split_categorical(play_data, 'Outlook', [{'sunny'}, {'rain'}, {'overcast'}]))"
   ]
  },
  {
   "cell_type": "markdown",
   "metadata": {},
   "source": [
    "Compute the first splitting of the records at the root node as in the exercise. This is, write a small code that assesses the possible splittings by each of the attributes (with the splitting criteria as in the exercise, e.g., all the three values for \"Outlook\" without grouping, and 75 as splitting point for the numerical attributes) and shows the decreasingly sorted information gains."
   ]
  },
  {
   "cell_type": "code",
   "execution_count": null,
   "metadata": {
    "collapsed": false
   },
   "outputs": [],
   "source": [
    "# TODO"
   ]
  },
  {
   "cell_type": "code",
   "execution_count": null,
   "metadata": {
    "collapsed": true
   },
   "outputs": [],
   "source": []
  }
 ],
 "metadata": {
  "kernelspec": {
   "display_name": "Python 3",
   "language": "python",
   "name": "python3"
  },
  "language_info": {
   "codemirror_mode": {
    "name": "ipython",
    "version": 3
   },
   "file_extension": ".py",
   "mimetype": "text/x-python",
   "name": "python",
   "nbconvert_exporter": "python",
   "pygments_lexer": "ipython3",
   "version": "3.6.0"
  }
 },
 "nbformat": 4,
 "nbformat_minor": 0
}
