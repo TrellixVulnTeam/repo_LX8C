{
 "cells": [
  {
   "cell_type": "markdown",
   "metadata": {},
   "source": [
    "# MLM Paramater Sweep\n",
    "\n",
    "\n",
    "Scoring documents using the Mixture of Language Models (MLM) approach. \n",
    "This notebook's purpose is to do a parameter sweep of the field weights and the smoothing paramater λ (Lambda). \n",
    "This notebook gave a general pointer as to what smoothing parameters is good to use.\n",
    "\n",
    "!NOTE! Runtime:  25-30 min "
   ]
  },
  {
   "cell_type": "code",
   "execution_count": 1,
   "metadata": {
    "collapsed": true
   },
   "outputs": [],
   "source": [
    "from elasticsearch import Elasticsearch\n",
    "import math\n",
    "import pprint\n",
    "import time"
   ]
  },
  {
   "cell_type": "code",
   "execution_count": 2,
   "metadata": {
    "collapsed": true
   },
   "outputs": [],
   "source": [
    "INDEX_NAME = \"aquaint\"\n",
    "DOC_TYPE = \"doc\""
   ]
  },
  {
   "cell_type": "code",
   "execution_count": 3,
   "metadata": {
    "collapsed": true
   },
   "outputs": [],
   "source": [
    "QUERY_FILE = \"data/queries.txt\""
   ]
  },
  {
   "cell_type": "code",
   "execution_count": 4,
   "metadata": {
    "collapsed": true
   },
   "outputs": [],
   "source": [
    "OUTPUT_FILE = \"data/mlm_opt.txt\"  # output the ranking\n",
    "QRELS_FILE = \"data/qrels2.csv\" # for ranking"
   ]
  },
  {
   "cell_type": "markdown",
   "metadata": {},
   "source": [
    "Document fields used for scoring."
   ]
  },
  {
   "cell_type": "code",
   "execution_count": 5,
   "metadata": {
    "collapsed": true
   },
   "outputs": [],
   "source": [
    "FIELDS = [\"title\", \"content\"]"
   ]
  },
  {
   "cell_type": "markdown",
   "metadata": {},
   "source": [
    "Field weights. You'll need to set these properly in Part 3 of the assignment. For now, you can use these values."
   ]
  },
  {
   "cell_type": "code",
   "execution_count": 6,
   "metadata": {
    "collapsed": true
   },
   "outputs": [],
   "source": [
    "FIELD_WEIGHTS = [0.1, 0.9]"
   ]
  },
  {
   "cell_type": "markdown",
   "metadata": {},
   "source": [
    "Smoothing: we use Jelinek-Mercer smoothing here with the following lambda parameter. (I.e., the same smoothing parameter is used for all fields.)"
   ]
  },
  {
   "cell_type": "code",
   "execution_count": 7,
   "metadata": {
    "collapsed": true
   },
   "outputs": [],
   "source": [
    "LAMBDA = 0.1"
   ]
  },
  {
   "cell_type": "markdown",
   "metadata": {
    "collapsed": true
   },
   "source": [
    "### Load the queries from the file\n",
    "\n",
    "See the assignment description for the format of the query file [here](https://github.com/kbalog/uis-dat630-fall2017/tree/master/assignment-1#queries)."
   ]
  },
  {
   "cell_type": "code",
   "execution_count": 8,
   "metadata": {
    "collapsed": true
   },
   "outputs": [],
   "source": [
    "def load_queries(query_file):\n",
    "    queries = {}\n",
    "    with open(query_file, \"r\") as fin:\n",
    "        for line in fin.readlines():\n",
    "            qid, query = line.strip().split(\" \", 1)\n",
    "            queries[qid] = query\n",
    "    return queries"
   ]
  },
  {
   "cell_type": "markdown",
   "metadata": {},
   "source": [
    "## Query analyzer\n",
    "\n",
    "See [indices.analyze](https://elasticsearch-py.readthedocs.io/en/master/api.html#elasticsearch.client.IndicesClient.analyze)."
   ]
  },
  {
   "cell_type": "code",
   "execution_count": 9,
   "metadata": {
    "collapsed": true
   },
   "outputs": [],
   "source": [
    "def analyze_query(es, query):\n",
    "    tokens = es.indices.analyze(index=INDEX_NAME, body={\"text\": query})[\"tokens\"]\n",
    "    query_terms = []\n",
    "    for t in sorted(tokens, key=lambda x: x[\"position\"]):\n",
    "        query_terms.append(t[\"token\"])\n",
    "    return query_terms"
   ]
  },
  {
   "cell_type": "code",
   "execution_count": 10,
   "metadata": {
    "collapsed": true
   },
   "outputs": [],
   "source": [
    "def grange(x, y, jump):\n",
    "    while x<y:\n",
    "        yield x\n",
    "        x += jump"
   ]
  },
  {
   "cell_type": "markdown",
   "metadata": {},
   "source": [
    "# Evaluation from Notebook 3\n"
   ]
  },
  {
   "cell_type": "code",
   "execution_count": 11,
   "metadata": {
    "collapsed": true
   },
   "outputs": [],
   "source": [
    "def eval_query(ranking, gt):\n",
    "    p10, ap, rr, num_rel = 0, 0, 0, 0\n",
    "        \n",
    "    \n",
    "    for i, doc_id in enumerate(ranking):\n",
    "        if doc_id in gt:  # doc is relevant\n",
    "            num_rel += 1  \n",
    "            pi = num_rel / (i + 1)  # P@i\n",
    "            ap += pi  # AP\n",
    "            \n",
    "            if i < 10:  # P@10\n",
    "                p10 += 1\n",
    "            if rr == 0:  # Reciprocal rank\n",
    "                rr = 1 / (i + 1)\n",
    "    p10 /= 10\n",
    "    ap /= len(gt)\n",
    "    \n",
    "    return {\"P10\": p10, \"AP\": ap, \"RR\": rr}"
   ]
  },
  {
   "cell_type": "code",
   "execution_count": 12,
   "metadata": {
    "collapsed": true
   },
   "outputs": [],
   "source": [
    "def eval(gt_file, output_file):\n",
    "    # load data from ground truth file\n",
    "    gt = {}  # holds a list of relevant documents for each queryID\n",
    "    with open(gt_file, \"r\") as fin:\n",
    "        header = fin.readline().strip()\n",
    "        if header != \"queryID,docIDs\":\n",
    "            raise Exception(\"Incorrect file format!\")\n",
    "        for line in fin.readlines():\n",
    "            qid, docids = line.strip().split(\",\")\n",
    "            gt[qid] = docids.split()\n",
    "\n",
    "    # load data from output file\n",
    "    output = {}\n",
    "    with open(output_file, \"r\") as fin:\n",
    "        header = fin.readline().strip()\n",
    "        if header != \"QueryId,DocumentId\":\n",
    "            raise Exception(\"Incorrect file format!\")\n",
    "        for line in fin.readlines():\n",
    "            qid, docid = line.strip().split(\",\")\n",
    "            if qid not in output:\n",
    "                output[qid] = []\n",
    "            output[qid].append(docid)\n",
    "\n",
    "    # evaluate each query that is in the ground truth\n",
    "    #print(\"  QID  P@10   (M)AP  (M)RR\")\n",
    "    sum_p10, sum_ap, sum_rr, length = 0, 0, 0, 0\n",
    "    for qid in sorted(gt.keys()):\n",
    "        res = eval_query(output.get(qid, []), gt.get(qid, []))\n",
    "        sum_p10 += res[\"P10\"]\n",
    "        sum_ap += res[\"AP\"]\n",
    "        sum_rr += res[\"RR\"]\n",
    "        length += 1\n",
    "\n",
    "    # TODO compute averages over the entire query set\n",
    "    sum_p10 = sum_p10/length\n",
    "    sum_ap = sum_ap/length\n",
    "    sum_rr = sum_rr/length\n",
    "    # print averages\n",
    "    #print(sum_ap)\n",
    "    print(\"\\t%5s %6.3f %6.3f %6.3f \" % (\"ALL\", sum_p10, sum_ap, sum_rr))\n",
    "    #return sum_ap"
   ]
  },
  {
   "cell_type": "markdown",
   "metadata": {},
   "source": [
    "### Collection Language Model class\n",
    "\n",
    "This class is used for obtaining collection language modeling probabilities $P(t|C_i)$.\n",
    "\n",
    "The reason this class is needed is that `es.termvectors` does not return term statistics for terms that do not appear in the given document. This would cause problems in scoring documents that are partial matches (do not contain all query terms in all fields). \n",
    "\n",
    "The idea is that for each query term, we need to find a document that contains that term. Then the collection term statistics are available from that document's term vector. To make sure we find a matching document, we issue a [boolean (match)](https://www.elastic.co/guide/en/elasticsearch/reference/5.5/query-dsl-match-query.html) query."
   ]
  },
  {
   "cell_type": "code",
   "execution_count": 13,
   "metadata": {
    "collapsed": true
   },
   "outputs": [],
   "source": [
    "class CollectionLM(object):\n",
    "    def __init__(self, es, qterms):\n",
    "        self._es = es\n",
    "        self._probs = {}\n",
    "        # computing P(t|C_i) for each field and for each query term\n",
    "        for field in FIELDS:\n",
    "            self._probs[field] = {}\n",
    "            for t in qterms:\n",
    "                self._probs[field][t] = self.__get_prob(field, t)\n",
    "        \n",
    "    def __get_prob(self, field, term):\n",
    "        # use a boolean query to find a document that contains the term\n",
    "        hits = self._es.search(index=INDEX_NAME, body={\"query\": {\"match\": {field: term}}},\n",
    "                               _source=False, size=1).get(\"hits\", {}).get(\"hits\", {})\n",
    "        doc_id = hits[0][\"_id\"] if len(hits) > 0 else None\n",
    "        if doc_id is not None:\n",
    "            # ask for global term statistics when requesting the term vector of that doc (`term_statistics=True`)\n",
    "            tv = self._es.termvectors(index=INDEX_NAME, doc_type=DOC_TYPE, id=doc_id, fields=field,\n",
    "                                      term_statistics=True)[\"term_vectors\"][field]\n",
    "            ttf = tv[\"terms\"].get(term, {}).get(\"ttf\", 0)  # total term count in the collection (in that field)\n",
    "            sum_ttf = tv[\"field_statistics\"][\"sum_ttf\"]\n",
    "            #pp = pprint.PrettyPrinter(indent=4)\n",
    "            #pp.pprint(tv)\n",
    "            return ttf / sum_ttf\n",
    "        \n",
    "        return 0  # this only happens if none of the documents contain that term\n",
    "\n",
    "    def prob(self, field, term):\n",
    "        return self._probs.get(field, {}).get(term, 0)"
   ]
  },
  {
   "cell_type": "markdown",
   "metadata": {},
   "source": [
    "### Document scorer\n",
    "\n",
    "**TODO** This is the only method that you need to complete."
   ]
  },
  {
   "cell_type": "code",
   "execution_count": 14,
   "metadata": {
    "collapsed": true
   },
   "outputs": [],
   "source": [
    "def score_mlm(es, clm, qterms, doc_id):\n",
    "    score = 0  # log P(q|d)\n",
    "    \n",
    "    # Getting term frequency statistics for the given document field from Elasticsearch\n",
    "    # Note that global term statistics are not needed (`term_statistics=False`)\n",
    "    tv = es.termvectors(index=INDEX_NAME, doc_type=DOC_TYPE, id=doc_id, fields=FIELDS,\n",
    "                              term_statistics=False).get(\"term_vectors\", {})\n",
    "\n",
    "    # NOTE: Keep in mind that a given document field might be empty. In that case there is no tv[field].\n",
    "    #print(tv['terms'][t]['term_freq'])\n",
    "    # scoring the query\n",
    "    a, b, c = 0, 0, 0\n",
    "    for t in qterms:\n",
    "        Pt_theta_d = 0  # P(t|\\theta_d)\n",
    "        for i, field in enumerate(FIELDS):\n",
    "            \n",
    "            Pt_theta_di = 0 \n",
    "            if (field in tv) and (t in tv[field][\"terms\"]):\n",
    "                #Pt_theta_di = (1-LAMBDA)*((tv[\"terms\"][t]['term_freq']) / (len(tv['terms']))) + (LAMBDA*((tv['field_statistics']['sum_ttf'])/(tv['field_statistics']['sum_doc_freq'])))\n",
    "                # TODO compute the field language model $P(t|\\theta_{d_i})$ with Jelinek-Mercer smoothing\n",
    "                #tv2 = tv['terms'][t]['term_freq']\n",
    "                \n",
    "                Pt_theta_di = (1-LAMBDA)*((tv[field][\"terms\"][t]['term_freq']) / (len(tv[field][\"terms\"]))) + (LAMBDA* (clm._probs[field][t]))\n",
    "                #a = (tv['field_statistics']['sum_ttf'])\n",
    "                # b = (tv['field_statistics']['sum_doc_freq'])\n",
    "                #c= a/b\n",
    "                \n",
    "                # NOTE keep in mind that the term vector will not contain `term` as a key if the document doesn't\n",
    "                # contain that term; you will still need to use the background term probabilities for that term.\n",
    "                # You can get the background term probability using `clm.prob(field, t)`\n",
    "            elif(field in tv):\n",
    "                Pt_theta_d= clm.prob(field,t)\n",
    "            Pt_theta_d += FIELD_WEIGHTS[i] * Pt_theta_di\n",
    "        \n",
    "        # TODO uncomment this line once you computed Pt_theta_d (and it is >0)\n",
    "        if Pt_theta_d>0:\n",
    "            score += math.log(Pt_theta_d)          \n",
    "        #print(Pt_theta_di)\n",
    "    return score"
   ]
  },
  {
   "cell_type": "markdown",
   "metadata": {},
   "source": [
    "## Main"
   ]
  },
  {
   "cell_type": "code",
   "execution_count": 15,
   "metadata": {
    "collapsed": true
   },
   "outputs": [],
   "source": [
    "es = Elasticsearch()"
   ]
  },
  {
   "cell_type": "code",
   "execution_count": 16,
   "metadata": {
    "collapsed": true
   },
   "outputs": [],
   "source": [
    "SIM = {\"similarity\": {\"default\": { \"type\": \"BM25\",\"b\": 0.75,\"k1\": 1.2}}} #Ensuring Default BM25 Parameters"
   ]
  },
  {
   "cell_type": "code",
   "execution_count": 17,
   "metadata": {
    "collapsed": true
   },
   "outputs": [],
   "source": [
    "es.indices.close(index=INDEX_NAME)\n",
    "es.indices.put_settings(index=INDEX_NAME, body=SIM)\n",
    "es.indices.open(index=INDEX_NAME)\n",
    "time.sleep(2)"
   ]
  },
  {
   "cell_type": "code",
   "execution_count": 18,
   "metadata": {
    "collapsed": true
   },
   "outputs": [],
   "source": [
    "queries = load_queries(QUERY_FILE)"
   ]
  },
  {
   "cell_type": "code",
   "execution_count": 19,
   "metadata": {
    "collapsed": false
   },
   "outputs": [
    {
     "name": "stdout",
     "output_type": "stream",
     "text": [
      "Scoring mlm for lambda: 0.1\n",
      "\t Field Weights: [0.1] [0.9]\n",
      "\t QID  P@10   (M)AP  (M)RR\n",
      "\t  ALL  0.184  0.069  0.317 \n",
      "\t Field Weights: [0.2] [0.8]\n",
      "\t QID  P@10   (M)AP  (M)RR\n",
      "\t  ALL  0.180  0.073  0.338 \n",
      "\t Field Weights: [0.30000000000000004] [0.7000000000000001]\n",
      "\t QID  P@10   (M)AP  (M)RR\n",
      "\t  ALL  0.171  0.075  0.332 \n",
      "\t Field Weights: [0.4] [0.6000000000000001]\n",
      "\t QID  P@10   (M)AP  (M)RR\n",
      "\t  ALL  0.171  0.076  0.332 \n",
      "\t Field Weights: [0.5] [0.5000000000000001]\n",
      "\t QID  P@10   (M)AP  (M)RR\n",
      "\t  ALL  0.176  0.075  0.324 \n",
      "\t Field Weights: [0.6] [0.40000000000000013]\n",
      "\t QID  P@10   (M)AP  (M)RR\n",
      "\t  ALL  0.169  0.078  0.336 \n",
      "\t Field Weights: [0.7] [0.30000000000000016]\n",
      "\t QID  P@10   (M)AP  (M)RR\n",
      "\t  ALL  0.162  0.076  0.331 \n",
      "\t Field Weights: [0.7999999999999999] [0.20000000000000015]\n",
      "\t QID  P@10   (M)AP  (M)RR\n",
      "\t  ALL  0.167  0.075  0.326 \n",
      "\t Field Weights: [0.8999999999999999] [0.10000000000000014]\n",
      "\t QID  P@10   (M)AP  (M)RR\n",
      "\t  ALL  0.164  0.071  0.322 \n",
      "Scoring mlm for lambda: 0.2\n",
      "\t Field Weights: [0.1] [0.9]\n",
      "\t QID  P@10   (M)AP  (M)RR\n",
      "\t  ALL  0.182  0.069  0.319 \n",
      "\t Field Weights: [0.2] [0.8]\n",
      "\t QID  P@10   (M)AP  (M)RR\n",
      "\t  ALL  0.180  0.074  0.338 \n",
      "\t Field Weights: [0.30000000000000004] [0.7000000000000001]\n",
      "\t QID  P@10   (M)AP  (M)RR\n",
      "\t  ALL  0.167  0.075  0.332 \n",
      "\t Field Weights: [0.4] [0.6000000000000001]\n",
      "\t QID  P@10   (M)AP  (M)RR\n",
      "\t  ALL  0.169  0.075  0.331 \n",
      "\t Field Weights: [0.5] [0.5000000000000001]\n",
      "\t QID  P@10   (M)AP  (M)RR\n",
      "\t  ALL  0.176  0.074  0.323 \n",
      "\t Field Weights: [0.6] [0.40000000000000013]\n",
      "\t QID  P@10   (M)AP  (M)RR\n",
      "\t  ALL  0.169  0.078  0.335 \n",
      "\t Field Weights: [0.7] [0.30000000000000016]\n",
      "\t QID  P@10   (M)AP  (M)RR\n",
      "\t  ALL  0.162  0.076  0.331 \n",
      "\t Field Weights: [0.7999999999999999] [0.20000000000000015]\n",
      "\t QID  P@10   (M)AP  (M)RR\n",
      "\t  ALL  0.167  0.075  0.323 \n",
      "\t Field Weights: [0.8999999999999999] [0.10000000000000014]\n",
      "\t QID  P@10   (M)AP  (M)RR\n",
      "\t  ALL  0.162  0.071  0.322 \n",
      "Scoring mlm for lambda: 0.30000000000000004\n",
      "\t Field Weights: [0.1] [0.9]\n",
      "\t QID  P@10   (M)AP  (M)RR\n",
      "\t  ALL  0.180  0.070  0.319 \n",
      "\t Field Weights: [0.2] [0.8]\n",
      "\t QID  P@10   (M)AP  (M)RR\n",
      "\t  ALL  0.180  0.073  0.337 \n",
      "\t Field Weights: [0.30000000000000004] [0.7000000000000001]\n",
      "\t QID  P@10   (M)AP  (M)RR\n",
      "\t  ALL  0.167  0.074  0.331 \n",
      "\t Field Weights: [0.4] [0.6000000000000001]\n",
      "\t QID  P@10   (M)AP  (M)RR\n",
      "\t  ALL  0.169  0.075  0.332 \n",
      "\t Field Weights: [0.5] [0.5000000000000001]\n",
      "\t QID  P@10   (M)AP  (M)RR\n",
      "\t  ALL  0.173  0.074  0.323 \n",
      "\t Field Weights: [0.6] [0.40000000000000013]\n",
      "\t QID  P@10   (M)AP  (M)RR\n",
      "\t  ALL  0.169  0.077  0.335 \n",
      "\t Field Weights: [0.7] [0.30000000000000016]\n",
      "\t QID  P@10   (M)AP  (M)RR\n",
      "\t  ALL  0.162  0.076  0.324 \n",
      "\t Field Weights: [0.7999999999999999] [0.20000000000000015]\n",
      "\t QID  P@10   (M)AP  (M)RR\n",
      "\t  ALL  0.167  0.075  0.322 \n",
      "\t Field Weights: [0.8999999999999999] [0.10000000000000014]\n",
      "\t QID  P@10   (M)AP  (M)RR\n",
      "\t  ALL  0.164  0.071  0.323 \n",
      "Scoring mlm for lambda: 0.4\n",
      "\t Field Weights: [0.1] [0.9]\n",
      "\t QID  P@10   (M)AP  (M)RR\n",
      "\t  ALL  0.178  0.069  0.318 \n",
      "\t Field Weights: [0.2] [0.8]\n",
      "\t QID  P@10   (M)AP  (M)RR\n",
      "\t  ALL  0.182  0.073  0.337 \n",
      "\t Field Weights: [0.30000000000000004] [0.7000000000000001]\n",
      "\t QID  P@10   (M)AP  (M)RR\n",
      "\t  ALL  0.169  0.074  0.331 \n",
      "\t Field Weights: [0.4] [0.6000000000000001]\n",
      "\t QID  P@10   (M)AP  (M)RR\n",
      "\t  ALL  0.171  0.075  0.331 \n",
      "\t Field Weights: [0.5] [0.5000000000000001]\n",
      "\t QID  P@10   (M)AP  (M)RR\n",
      "\t  ALL  0.171  0.074  0.334 \n",
      "\t Field Weights: [0.6] [0.40000000000000013]\n",
      "\t QID  P@10   (M)AP  (M)RR\n",
      "\t  ALL  0.169  0.077  0.335 \n",
      "\t Field Weights: [0.7] [0.30000000000000016]\n",
      "\t QID  P@10   (M)AP  (M)RR\n",
      "\t  ALL  0.162  0.075  0.323 \n",
      "\t Field Weights: [0.7999999999999999] [0.20000000000000015]\n",
      "\t QID  P@10   (M)AP  (M)RR\n",
      "\t  ALL  0.167  0.075  0.322 \n",
      "\t Field Weights: [0.8999999999999999] [0.10000000000000014]\n",
      "\t QID  P@10   (M)AP  (M)RR\n",
      "\t  ALL  0.164  0.071  0.323 \n",
      "Scoring mlm for lambda: 0.5\n",
      "\t Field Weights: [0.1] [0.9]\n",
      "\t QID  P@10   (M)AP  (M)RR\n",
      "\t  ALL  0.178  0.069  0.314 \n",
      "\t Field Weights: [0.2] [0.8]\n",
      "\t QID  P@10   (M)AP  (M)RR\n",
      "\t  ALL  0.180  0.073  0.336 \n",
      "\t Field Weights: [0.30000000000000004] [0.7000000000000001]\n",
      "\t QID  P@10   (M)AP  (M)RR\n",
      "\t  ALL  0.171  0.074  0.334 \n",
      "\t Field Weights: [0.4] [0.6000000000000001]\n",
      "\t QID  P@10   (M)AP  (M)RR\n",
      "\t  ALL  0.173  0.075  0.329 \n",
      "\t Field Weights: [0.5] [0.5000000000000001]\n",
      "\t QID  P@10   (M)AP  (M)RR\n",
      "\t  ALL  0.171  0.074  0.334 \n",
      "\t Field Weights: [0.6] [0.40000000000000013]\n",
      "\t QID  P@10   (M)AP  (M)RR\n",
      "\t  ALL  0.167  0.077  0.335 \n",
      "\t Field Weights: [0.7] [0.30000000000000016]\n",
      "\t QID  P@10   (M)AP  (M)RR\n",
      "\t  ALL  0.162  0.076  0.323 \n",
      "\t Field Weights: [0.7999999999999999] [0.20000000000000015]\n",
      "\t QID  P@10   (M)AP  (M)RR\n",
      "\t  ALL  0.164  0.074  0.323 \n",
      "\t Field Weights: [0.8999999999999999] [0.10000000000000014]\n",
      "\t QID  P@10   (M)AP  (M)RR\n",
      "\t  ALL  0.164  0.070  0.324 \n",
      "Scoring mlm for lambda: 0.6\n",
      "\t Field Weights: [0.1] [0.9]\n",
      "\t QID  P@10   (M)AP  (M)RR\n",
      "\t  ALL  0.178  0.068  0.316 \n",
      "\t Field Weights: [0.2] [0.8]\n",
      "\t QID  P@10   (M)AP  (M)RR\n",
      "\t  ALL  0.180  0.073  0.335 \n",
      "\t Field Weights: [0.30000000000000004] [0.7000000000000001]\n",
      "\t QID  P@10   (M)AP  (M)RR\n",
      "\t  ALL  0.169  0.073  0.335 \n",
      "\t Field Weights: [0.4] [0.6000000000000001]\n",
      "\t QID  P@10   (M)AP  (M)RR\n",
      "\t  ALL  0.171  0.074  0.328 \n",
      "\t Field Weights: [0.5] [0.5000000000000001]\n",
      "\t QID  P@10   (M)AP  (M)RR\n",
      "\t  ALL  0.169  0.077  0.337 \n",
      "\t Field Weights: [0.6] [0.40000000000000013]\n",
      "\t QID  P@10   (M)AP  (M)RR\n",
      "\t  ALL  0.164  0.076  0.335 \n",
      "\t Field Weights: [0.7] [0.30000000000000016]\n",
      "\t QID  P@10   (M)AP  (M)RR\n",
      "\t  ALL  0.162  0.075  0.322 \n",
      "\t Field Weights: [0.7999999999999999] [0.20000000000000015]\n",
      "\t QID  P@10   (M)AP  (M)RR\n",
      "\t  ALL  0.164  0.074  0.323 \n",
      "\t Field Weights: [0.8999999999999999] [0.10000000000000014]\n",
      "\t QID  P@10   (M)AP  (M)RR\n",
      "\t  ALL  0.160  0.066  0.321 \n",
      "Scoring mlm for lambda: 0.7\n",
      "\t Field Weights: [0.1] [0.9]\n",
      "\t QID  P@10   (M)AP  (M)RR\n",
      "\t  ALL  0.178  0.068  0.315 \n",
      "\t Field Weights: [0.2] [0.8]\n",
      "\t QID  P@10   (M)AP  (M)RR\n",
      "\t  ALL  0.180  0.072  0.333 \n",
      "\t Field Weights: [0.30000000000000004] [0.7000000000000001]\n",
      "\t QID  P@10   (M)AP  (M)RR\n",
      "\t  ALL  0.171  0.073  0.338 \n",
      "\t Field Weights: [0.4] [0.6000000000000001]\n",
      "\t QID  P@10   (M)AP  (M)RR\n",
      "\t  ALL  0.169  0.074  0.339 \n",
      "\t Field Weights: [0.5] [0.5000000000000001]\n",
      "\t QID  P@10   (M)AP  (M)RR\n",
      "\t  ALL  0.167  0.077  0.337 \n",
      "\t Field Weights: [0.6] [0.40000000000000013]\n",
      "\t QID  P@10   (M)AP  (M)RR\n",
      "\t  ALL  0.164  0.076  0.338 \n",
      "\t Field Weights: [0.7] [0.30000000000000016]\n",
      "\t QID  P@10   (M)AP  (M)RR\n",
      "\t  ALL  0.164  0.074  0.322 \n",
      "\t Field Weights: [0.7999999999999999] [0.20000000000000015]\n",
      "\t QID  P@10   (M)AP  (M)RR\n",
      "\t  ALL  0.160  0.072  0.322 \n",
      "\t Field Weights: [0.8999999999999999] [0.10000000000000014]\n",
      "\t QID  P@10   (M)AP  (M)RR\n",
      "\t  ALL  0.158  0.065  0.318 \n",
      "Scoring mlm for lambda: 0.7999999999999999\n",
      "\t Field Weights: [0.1] [0.9]\n",
      "\t QID  P@10   (M)AP  (M)RR\n",
      "\t  ALL  0.176  0.067  0.299 \n",
      "\t Field Weights: [0.2] [0.8]\n",
      "\t QID  P@10   (M)AP  (M)RR\n",
      "\t  ALL  0.178  0.071  0.351 \n",
      "\t Field Weights: [0.30000000000000004] [0.7000000000000001]\n",
      "\t QID  P@10   (M)AP  (M)RR\n",
      "\t  ALL  0.169  0.073  0.347 \n",
      "\t Field Weights: [0.4] [0.6000000000000001]\n",
      "\t QID  P@10   (M)AP  (M)RR\n",
      "\t  ALL  0.169  0.073  0.337 \n",
      "\t Field Weights: [0.5] [0.5000000000000001]\n",
      "\t QID  P@10   (M)AP  (M)RR\n",
      "\t  ALL  0.162  0.076  0.336 \n",
      "\t Field Weights: [0.6] [0.40000000000000013]\n",
      "\t QID  P@10   (M)AP  (M)RR\n",
      "\t  ALL  0.164  0.075  0.337 \n",
      "\t Field Weights: [0.7] [0.30000000000000016]\n",
      "\t QID  P@10   (M)AP  (M)RR\n",
      "\t  ALL  0.162  0.074  0.322 \n",
      "\t Field Weights: [0.7999999999999999] [0.20000000000000015]\n",
      "\t QID  P@10   (M)AP  (M)RR\n",
      "\t  ALL  0.167  0.067  0.315 \n",
      "\t Field Weights: [0.8999999999999999] [0.10000000000000014]\n",
      "\t QID  P@10   (M)AP  (M)RR\n",
      "\t  ALL  0.162  0.065  0.312 \n",
      "Scoring mlm for lambda: 0.8999999999999999\n",
      "\t Field Weights: [0.1] [0.9]\n",
      "\t QID  P@10   (M)AP  (M)RR\n",
      "\t  ALL  0.167  0.065  0.312 \n",
      "\t Field Weights: [0.2] [0.8]\n",
      "\t QID  P@10   (M)AP  (M)RR\n",
      "\t  ALL  0.162  0.067  0.350 \n",
      "\t Field Weights: [0.30000000000000004] [0.7000000000000001]\n",
      "\t QID  P@10   (M)AP  (M)RR\n",
      "\t  ALL  0.169  0.071  0.337 \n",
      "\t Field Weights: [0.4] [0.6000000000000001]\n",
      "\t QID  P@10   (M)AP  (M)RR\n",
      "\t  ALL  0.162  0.071  0.338 \n",
      "\t Field Weights: [0.5] [0.5000000000000001]\n",
      "\t QID  P@10   (M)AP  (M)RR\n",
      "\t  ALL  0.167  0.075  0.339 \n",
      "\t Field Weights: [0.6] [0.40000000000000013]\n",
      "\t QID  P@10   (M)AP  (M)RR\n",
      "\t  ALL  0.167  0.071  0.333 \n",
      "\t Field Weights: [0.7] [0.30000000000000016]\n",
      "\t QID  P@10   (M)AP  (M)RR\n",
      "\t  ALL  0.160  0.068  0.318 \n",
      "\t Field Weights: [0.7999999999999999] [0.20000000000000015]\n",
      "\t QID  P@10   (M)AP  (M)RR\n",
      "\t  ALL  0.164  0.066  0.315 \n",
      "\t Field Weights: [0.8999999999999999] [0.10000000000000014]\n",
      "\t QID  P@10   (M)AP  (M)RR\n",
      "\t  ALL  0.164  0.063  0.301 \n",
      "Scoring mlm for lambda: 0.9999999999999999\n",
      "\t Field Weights: [0.1] [0.9]\n",
      "\t QID  P@10   (M)AP  (M)RR\n",
      "\t  ALL  0.162  0.046  0.314 \n",
      "\t Field Weights: [0.2] [0.8]\n",
      "\t QID  P@10   (M)AP  (M)RR\n",
      "\t  ALL  0.167  0.045  0.316 \n",
      "\t Field Weights: [0.30000000000000004] [0.7000000000000001]\n",
      "\t QID  P@10   (M)AP  (M)RR\n",
      "\t  ALL  0.173  0.045  0.301 \n",
      "\t Field Weights: [0.4] [0.6000000000000001]\n",
      "\t QID  P@10   (M)AP  (M)RR\n",
      "\t  ALL  0.171  0.045  0.297 \n",
      "\t Field Weights: [0.5] [0.5000000000000001]\n",
      "\t QID  P@10   (M)AP  (M)RR\n",
      "\t  ALL  0.176  0.047  0.321 \n",
      "\t Field Weights: [0.6] [0.40000000000000013]\n",
      "\t QID  P@10   (M)AP  (M)RR\n",
      "\t  ALL  0.153  0.044  0.289 \n",
      "\t Field Weights: [0.7] [0.30000000000000016]\n",
      "\t QID  P@10   (M)AP  (M)RR\n",
      "\t  ALL  0.160  0.048  0.302 \n",
      "\t Field Weights: [0.7999999999999999] [0.20000000000000015]\n",
      "\t QID  P@10   (M)AP  (M)RR\n",
      "\t  ALL  0.160  0.044  0.292 \n",
      "\t Field Weights: [0.8999999999999999] [0.10000000000000014]\n",
      "\t QID  P@10   (M)AP  (M)RR\n",
      "\t  ALL  0.124  0.041  0.246 \n"
     ]
    }
   ],
   "source": [
    "\n",
    "for x in grange(0.1,1.0, 0.1) :    #lambda range\n",
    "    LAMBDA = x\n",
    "    print(\"Scoring mlm for lambda: \"+str(LAMBDA))\n",
    "    \n",
    "    while FIELD_WEIGHTS[0] <= 0.9:\n",
    "        print(\"\\t Field Weights: [\"+str(FIELD_WEIGHTS[0])+\"] [\"+str(FIELD_WEIGHTS[1])+\"]\")\n",
    "        print(\"\\t QID  P@10   (M)AP  (M)RR\")\n",
    "        with open(OUTPUT_FILE, \"w\") as fout:\n",
    "            # write header\n",
    "            fout.write(\"QueryId,DocumentId\\n\")\n",
    "            for qid, query in queries.items():\n",
    "                # get top 200 docs using BM25\n",
    "                #print(\"Get baseline ranking for [%s] '%s'\" % (qid, query))\n",
    "                res = es.search(index=INDEX_NAME, q=query, df=\"content\", _source=False, size=200).get('hits', {})\n",
    "                pp = pprint.PrettyPrinter(indent=4)\n",
    "\n",
    "                # re-score docs using MLM\n",
    "                #print(\"Re-scoring documents using MLM\")\n",
    "                # get analyzed query\n",
    "                qterms = analyze_query(es, query)\n",
    "                #pp.pprint(qterms)\n",
    "                # get collection LM \n",
    "                # (this needs to be instantiated only once per query and can be used for scoring all documents)\n",
    "                clm = CollectionLM(es, qterms)        \n",
    "                scores = {}\n",
    "                for doc in res.get(\"hits\", {}):\n",
    "                    doc_id = doc.get(\"_id\")\n",
    "                    scores[doc_id] = score_mlm(es, clm, qterms, doc_id)\n",
    "\n",
    "                # write top 100 results to file\n",
    "                for doc_id, score in sorted(scores.items(), key=lambda x: x[1], reverse=True)[:100]:            \n",
    "                    fout.write(qid + \",\" + doc_id + \"\\n\")\n",
    "                fout.close\n",
    "                \n",
    "                \n",
    "        eval(QRELS_FILE, OUTPUT_FILE)\n",
    "        \n",
    "        FIELD_WEIGHTS[0] +=  0.1\n",
    "        FIELD_WEIGHTS[1] -=  0.1\n",
    "        \n",
    "    FIELD_WEIGHTS = [0.1,0.9]\n",
    "   "
   ]
  },
  {
   "cell_type": "code",
   "execution_count": null,
   "metadata": {
    "collapsed": true
   },
   "outputs": [],
   "source": []
  },
  {
   "cell_type": "code",
   "execution_count": null,
   "metadata": {
    "collapsed": true
   },
   "outputs": [],
   "source": []
  },
  {
   "cell_type": "code",
   "execution_count": null,
   "metadata": {
    "collapsed": true
   },
   "outputs": [],
   "source": []
  }
 ],
 "metadata": {
  "kernelspec": {
   "display_name": "Python 3",
   "language": "python",
   "name": "python3"
  },
  "language_info": {
   "codemirror_mode": {
    "name": "ipython",
    "version": 3
   },
   "file_extension": ".py",
   "mimetype": "text/x-python",
   "name": "python",
   "nbconvert_exporter": "python",
   "pygments_lexer": "ipython3",
   "version": "3.6.0"
  }
 },
 "nbformat": 4,
 "nbformat_minor": 2
}
