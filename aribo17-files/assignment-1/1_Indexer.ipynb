{
 "cells": [
  {
   "cell_type": "markdown",
   "metadata": {},
   "source": [
    "# Assignment 1 - Part 1"
   ]
  },
  {
   "cell_type": "code",
   "execution_count": 1,
   "metadata": {
    "collapsed": true
   },
   "outputs": [],
   "source": [
    "import re\n",
    "import gzip\n",
    "from bs4 import BeautifulSoup\n",
    "from elasticsearch import Elasticsearch\n",
    "from elasticsearch import helpers"
   ]
  },
  {
   "cell_type": "code",
   "execution_count": 2,
   "metadata": {
    "collapsed": true
   },
   "outputs": [],
   "source": [
    "INDEX_NAME = \"aquaint\"\n",
    "DOC_TYPE = \"doc\"\n",
    "INDEX_SETTINGS = {\n",
    "    \"settings\" : {\n",
    "        \"index\" : {\n",
    "            \"number_of_shards\" : 1,\n",
    "            \"number_of_replicas\" : 1\n",
    "        }\n",
    "    }\n",
    "}"
   ]
  },
  {
   "cell_type": "markdown",
   "metadata": {},
   "source": [
    "Add a set of documents to the index in a bulk."
   ]
  },
  {
   "cell_type": "code",
   "execution_count": 5,
   "metadata": {
    "collapsed": true
   },
   "outputs": [],
   "source": [
    "def add_docs_bulk(es, docs):\n",
    "    actions = []\n",
    "    for doc_id, doc in docs.items():\n",
    "        action = {\n",
    "            \"_index\": INDEX_NAME,\n",
    "            \"_type\": DOC_TYPE,\n",
    "            \"_id\": doc_id,\n",
    "            \"_source\": doc\n",
    "        }\n",
    "        actions.append(action)\n",
    "\n",
    "    if len(actions) > 0:\n",
    "        helpers.bulk(es, actions)"
   ]
  },
  {
   "cell_type": "markdown",
   "metadata": {},
   "source": [
    "Indexes a given file"
   ]
  },
  {
   "cell_type": "code",
   "execution_count": 6,
   "metadata": {
    "collapsed": true
   },
   "outputs": [],
   "source": [
    "def index(es, file_name):\n",
    "    print(\"Processing\", file_name)\n",
    "    with gzip.open(file_name, \"rt\") as fin:\n",
    "        is_body = False\n",
    "        docs = {}\n",
    "        doc_id, body = None, None\n",
    "        for line in fin:\n",
    "            line = line.strip()\n",
    "            if line.startswith(\"<DOCNO>\"):  # get doc id\n",
    "                doc_id = re.sub(\"<DOCNO> | </DOCNO>\", \"\", line)\n",
    "            elif line.startswith(\"<BODY>\"):  # start to parse body\n",
    "                is_body = True\n",
    "                body = []\n",
    "            elif line.startswith(\"</BODY>\"):  # finished reading body\n",
    "                soup = BeautifulSoup(\"\\n\".join(body), \"lxml\")\n",
    "                headline = soup.find(\"headline\")\n",
    "                text = soup.find(\"text\")\n",
    "                docs[doc_id] = {\n",
    "                    \"title\": headline.text if headline is not None else \"\",  # use an empty string if no <HEADLINE> found\n",
    "                    \"content\": text.text if text is not None else \"\"  # everything inside <TEXT> is indexed as content\n",
    "                }\n",
    "                # get ready for next document\n",
    "                doc_id = None\n",
    "                is_body = False\n",
    "            elif is_body:  # accumulate body content\n",
    "                body.append(line)\n",
    "\n",
    "        # bulk index the collected documents\n",
    "        print(\"Bulk indexing\", len(docs), \"documents\")\n",
    "        add_docs_bulk(es, docs)"
   ]
  },
  {
   "cell_type": "markdown",
   "metadata": {},
   "source": [
    "### Indexing"
   ]
  },
  {
   "cell_type": "code",
   "execution_count": 7,
   "metadata": {
    "collapsed": true
   },
   "outputs": [],
   "source": [
    "es = Elasticsearch()\n",
    "if not es.indices.exists(INDEX_NAME):\n",
    "    es.indices.create(index=INDEX_NAME, body=INDEX_SETTINGS)"
   ]
  },
  {
   "cell_type": "code",
   "execution_count": null,
   "metadata": {
    "collapsed": true
   },
   "outputs": [],
   "source": []
  },
  {
   "cell_type": "markdown",
   "metadata": {},
   "source": [
    "Index a single input file"
   ]
  },
  {
   "cell_type": "code",
   "execution_count": 8,
   "metadata": {
    "collapsed": false
   },
   "outputs": [
    {
     "ename": "NameError",
     "evalue": "name 'doc_id' is not defined",
     "output_type": "error",
     "traceback": [
      "\u001b[0;31m---------------------------------------------------------------------------\u001b[0m",
      "\u001b[0;31mNameError\u001b[0m                                 Traceback (most recent call last)",
      "\u001b[0;32m<ipython-input-8-ce79824749cf>\u001b[0m in \u001b[0;36m<module>\u001b[0;34m()\u001b[0m\n\u001b[1;32m      4\u001b[0m \u001b[1;31m#     index(es, filename)\u001b[0m\u001b[1;33m\u001b[0m\u001b[1;33m\u001b[0m\u001b[0m\n\u001b[1;32m      5\u001b[0m \u001b[1;33m\u001b[0m\u001b[0m\n\u001b[0;32m----> 6\u001b[0;31m tv = es.termvectors(index=INDEX_NAME, doc_type=DOC_TYPE, id=doc_id, fields=field,\n\u001b[0m\u001b[1;32m      7\u001b[0m                           term_statistics=True) #[\"term_vectors\"][field]\n\u001b[1;32m      8\u001b[0m \u001b[1;31m# ttf = tv[\"terms\"].get(term, {}).get(\"ttf\", 0)  # total term count in the collection (in that field)\u001b[0m\u001b[1;33m\u001b[0m\u001b[1;33m\u001b[0m\u001b[0m\n",
      "\u001b[0;31mNameError\u001b[0m: name 'doc_id' is not defined"
     ]
    }
   ],
   "source": [
    "import glob # module finds all the pathnames matching a specified pattern\n",
    "\n",
    "for filename in glob.iglob('data/aquaint/*/*/*.gz', recursive=True):\n",
    "    index(es, filename)\n",
    "\n"
   ]
  },
  {
   "cell_type": "markdown",
   "metadata": {},
   "source": [
    "**TODO** Call the `index()` method on all data files in the collection."
   ]
  }
 ],
 "metadata": {
  "kernelspec": {
   "display_name": "Python 3",
   "language": "python",
   "name": "python3"
  },
  "language_info": {
   "codemirror_mode": {
    "name": "ipython",
    "version": 3
   },
   "file_extension": ".py",
   "mimetype": "text/x-python",
   "name": "python",
   "nbconvert_exporter": "python",
   "pygments_lexer": "ipython3",
   "version": "3.6.0"
  }
 },
 "nbformat": 4,
 "nbformat_minor": 2
}
