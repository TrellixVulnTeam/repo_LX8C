{
 "cells": [
  {
   "cell_type": "markdown",
   "metadata": {},
   "source": [
    "# Performing a parameter sweep\n",
    "\n",
    "The objective of this task is to optimize the parameters of the BM25 retrieval model (b and k1) in a systematic way. \n",
    "\n",
    "The proper solution would be to do an extensive grid search, as b and k1 are not independent of each other. The pseudo code for that would look something like:\n",
    "\n",
    "```\n",
    "for b between 0 and 1 in 0.1 steps\n",
    "    for k between 1 and 2 in 0.1 steps\n",
    "        perform retrieval using b and k\n",
    "        evaluate\n",
    "pick b and k with highest overall performance (MAP score)\n",
    "```\n",
    "\n",
    "As this would take a lot of time, what we do instead in this exercise is the following:\n",
    "  - keep the default k1 value (1.2) and perform a sweep on b\n",
    "  - use the best performing b value and perform a sweep on k1\n",
    "  \n",
    "This may not be a global optimum, but should give better results than the default setting.\n",
    "\n",
    "**NOTE** The solution is incomplete; those parts of the code that should be developed as part of Assignment 1 are removed."
   ]
  },
  {
   "cell_type": "code",
   "execution_count": 160,
   "metadata": {
    "collapsed": true
   },
   "outputs": [],
   "source": [
    "from elasticsearch import Elasticsearch\n",
    "import time\n",
    "import matplotlib.pyplot as plt\n",
    "import pprint"
   ]
  },
  {
   "cell_type": "code",
   "execution_count": 161,
   "metadata": {
    "collapsed": true
   },
   "outputs": [],
   "source": [
    "INDEX_NAME = \"aquaint\"\n",
    "DOC_TYPE = \"doc\"\n",
    "FIELD = \"content\""
   ]
  },
  {
   "cell_type": "code",
   "execution_count": 162,
   "metadata": {
    "collapsed": true
   },
   "outputs": [],
   "source": [
    "QUERY_FILE = \"data/queries.txt\"\n",
    "OUTPUT_FILE = \"data/bm_optimized.txt\"\n",
    "QRELS_FILE = \"data/qrels2.csv\""
   ]
  },
  {
   "cell_type": "code",
   "execution_count": 163,
   "metadata": {
    "collapsed": true
   },
   "outputs": [],
   "source": [
    "def load_queries(query_file):\n",
    "    queries = {}\n",
    "    with open(query_file, \"r\") as fin:\n",
    "        for line in fin.readlines():\n",
    "            qid, query = line.strip().split(\" \", 1)\n",
    "            queries[qid] = query\n",
    "    return queries"
   ]
  },
  {
   "cell_type": "code",
   "execution_count": 164,
   "metadata": {
    "collapsed": true
   },
   "outputs": [],
   "source": [
    "def eval_query(ranking, gt):\n",
    "    p10, ap, rr, num_rel = 0, 0, 0, 0\n",
    "        \n",
    "    \n",
    "    for i, doc_id in enumerate(ranking):\n",
    "        if doc_id in gt:  # doc is relevant\n",
    "            num_rel += 1  \n",
    "            pi = num_rel / (i + 1)  # P@i\n",
    "            ap += pi  # AP\n",
    "            \n",
    "            if i < 10:  # P@10\n",
    "                p10 += 1\n",
    "            if rr == 0:  # Reciprocal rank\n",
    "                rr = 1 / (i + 1)\n",
    "    p10 /= 10\n",
    "    ap /= len(gt)\n",
    "    \n",
    "    return {\"P10\": p10, \"AP\": ap, \"RR\": rr}"
   ]
  },
  {
   "cell_type": "code",
   "execution_count": 165,
   "metadata": {
    "collapsed": true
   },
   "outputs": [],
   "source": [
    "def eval(gt_file, output_file):\n",
    "    # load data from ground truth file\n",
    "    gt = {}  # holds a list of relevant documents for each queryID\n",
    "    with open(gt_file, \"r\") as fin:\n",
    "        header = fin.readline().strip()\n",
    "        if header != \"queryID,docIDs\":\n",
    "            raise Exception(\"Incorrect file format!\")\n",
    "        for line in fin.readlines():\n",
    "            qid, docids = line.strip().split(\",\")\n",
    "            gt[qid] = docids.split()\n",
    "\n",
    "    # load data from output file\n",
    "    output = {}\n",
    "    with open(output_file, \"r\") as fin:\n",
    "        header = fin.readline().strip()\n",
    "        if header != \"QueryId,DocumentId\":\n",
    "            raise Exception(\"Incorrect file format!\")\n",
    "        for line in fin.readlines():\n",
    "            qid, docid = line.strip().split(\",\")\n",
    "            if qid not in output:\n",
    "                output[qid] = []\n",
    "            output[qid].append(docid)\n",
    "\n",
    "    # evaluate each query that is in the ground truth\n",
    "    #print(\"  QID  P@10   (M)AP  (M)RR\")\n",
    "    sum_p10, sum_ap, sum_rr, length = 0, 0, 0, 0\n",
    "    for qid in sorted(gt.keys()):\n",
    "        res = eval_query(output.get(qid, []), gt.get(qid, []))\n",
    "        sum_p10 += res[\"P10\"]\n",
    "        sum_ap += res[\"AP\"]\n",
    "        sum_rr += res[\"RR\"]\n",
    "        length += 1\n",
    "\n",
    "    # TODO compute averages over the entire query set\n",
    "    sum_p10 = sum_p10/length\n",
    "    sum_ap = sum_ap/length\n",
    "    sum_rr = sum_rr/length\n",
    "    # print averages\n",
    "    print(sum_ap)\n",
    "    #print(\"%5s %6.3f %6.3f %6.3f \" % (\"ALL\", sum_p10, sum_ap, sum_rr))\n",
    "    return sum_ap"
   ]
  },
  {
   "cell_type": "code",
   "execution_count": 166,
   "metadata": {
    "collapsed": true
   },
   "outputs": [],
   "source": [
    "queries = load_queries(QUERY_FILE)"
   ]
  },
  {
   "cell_type": "code",
   "execution_count": 167,
   "metadata": {
    "collapsed": true
   },
   "outputs": [],
   "source": [
    "es = Elasticsearch()"
   ]
  },
  {
   "cell_type": "markdown",
   "metadata": {},
   "source": [
    "### Perform a sweep on b"
   ]
  },
  {
   "cell_type": "code",
   "execution_count": 168,
   "metadata": {
    "collapsed": false
   },
   "outputs": [
    {
     "name": "stdout",
     "output_type": "stream",
     "text": [
      "Running queries for b=0.000000\n",
      "0.07749778586097134\n",
      "Running queries for b=0.100000\n",
      "0.08277168231797909\n",
      "Running queries for b=0.200000\n",
      "0.08136968450637774\n",
      "Running queries for b=0.300000\n",
      "0.07854461481944872\n",
      "Running queries for b=0.400000\n",
      "0.07675254711018994\n",
      "Running queries for b=0.500000\n",
      "0.07432063651363362\n",
      "Running queries for b=0.600000\n",
      "0.06978918735150118\n",
      "Running queries for b=0.700000\n",
      "0.0666243773540211\n",
      "Running queries for b=0.800000\n",
      "0.0593819538704358\n",
      "Running queries for b=0.900000\n",
      "0.05477416480675029\n",
      "Running queries for b=1.000000\n",
      "0.049880068370967146\n"
     ]
    }
   ],
   "source": [
    "map_scores = []\n",
    "x = []\n",
    "y = {}\n",
    "for i in range(11):\n",
    "    b = round(i / 10, 2) \n",
    "    x.append(b)\n",
    "    print(\"Running queries for b=%f\" % b)\n",
    "    \n",
    "    # TODO run retrieval using k1=1.2 and b\n",
    "    SIM = {\"similarity\": {\"default\": { \"type\": \"BM25\",\"b\": b,\"k1\": 1.2}}}\n",
    "    es.indices.close(index=INDEX_NAME)\n",
    "    es.indices.put_settings(index=INDEX_NAME, body=SIM)\n",
    "    es.indices.open(index=INDEX_NAME)\n",
    "    time.sleep(2)\n",
    "    # TODO run retrieval using k1=1.2 and b\n",
    "    #es.search(index=INDEX_NAME, q=query, df=\"content\", _source=False, size=200).get('hits', {})\n",
    "    f = open(OUTPUT_FILE, 'w')\n",
    "    f.write('QueryId,DocumentId\\n') \n",
    "    for q_id, query in queries.items():\n",
    "        res = es.search(index=INDEX_NAME, doc_type=DOC_TYPE, q=query, df=\"content\", size=100,  filter_path=['hits.hits._id'])\n",
    "        for i in res['hits']['hits']:\n",
    "            for j in i:\n",
    "                f.write(str(q_id)+\",\"+i[j]+'\\n')\n",
    "    f.close() \n",
    "    # TODO evaluate the ranking\n",
    "    \n",
    "    map_score = eval(QRELS_FILE, OUTPUT_FILE)\n",
    "    y[b] = map_score\n",
    "    map_scores.append(map_score)"
   ]
  },
  {
   "cell_type": "code",
   "execution_count": 169,
   "metadata": {
    "collapsed": false
   },
   "outputs": [
    {
     "name": "stdout",
     "output_type": "stream",
     "text": [
      "0.077\n",
      "0.083\n",
      "0.081\n",
      "0.079\n",
      "0.077\n",
      "0.074\n",
      "0.070\n",
      "0.067\n",
      "0.059\n",
      "0.055\n",
      "0.050\n"
     ]
    },
    {
     "data": {
      "image/png": "[encoded data removed]",
      "text/plain": [
       "<matplotlib.figure.Figure at 0x1819e365978>"
      ]
     },
     "metadata": {},
     "output_type": "display_data"
    }
   ],
   "source": [
    "b_map=list(y.values())\n",
    "z=0\n",
    "for d in range(0,11,1):\n",
    "    b_map[z] = \"%.3f\" % b_map[z]\n",
    "    print(b_map[z])\n",
    "    z+=1\n",
    "\n",
    "plt.bar(range(len(y)), y.values(), align=\"center\")\n",
    "plt.xticks(range(len(y)), list(y.keys()))\n",
    "plt.show()"
   ]
  },
  {
   "cell_type": "code",
   "execution_count": null,
   "metadata": {
    "collapsed": true
   },
   "outputs": [],
   "source": []
  },
  {
   "cell_type": "code",
   "execution_count": null,
   "metadata": {
    "collapsed": false
   },
   "outputs": [],
   "source": []
  },
  {
   "cell_type": "code",
   "execution_count": null,
   "metadata": {
    "collapsed": true
   },
   "outputs": [],
   "source": [
    "\n"
   ]
  },
  {
   "cell_type": "code",
   "execution_count": null,
   "metadata": {
    "collapsed": false
   },
   "outputs": [],
   "source": []
  },
  {
   "cell_type": "code",
   "execution_count": null,
   "metadata": {
    "collapsed": false
   },
   "outputs": [],
   "source": []
  },
  {
   "cell_type": "markdown",
   "metadata": {},
   "source": [
    "**TODO** Plot MAP scores for the various b values"
   ]
  },
  {
   "cell_type": "markdown",
   "metadata": {},
   "source": [
    "### Perform a sweep on k1\n",
    "\n",
    "Use the best performing b value from above and optimize k1"
   ]
  },
  {
   "cell_type": "code",
   "execution_count": 170,
   "metadata": {
    "collapsed": false
   },
   "outputs": [
    {
     "name": "stdout",
     "output_type": "stream",
     "text": [
      "Running queries for k1=1.000000\n",
      "0.08271382547317722\n",
      "Running queries for k1=1.100000\n",
      "0.08288520015126824\n",
      "Running queries for k1=1.200000\n",
      "0.08277168231797909\n",
      "Running queries for k1=1.300000\n",
      "0.0829651584938024\n",
      "Running queries for k1=1.400000\n",
      "0.0829403030889661\n",
      "Running queries for k1=1.500000\n",
      "0.08269708018489398\n",
      "Running queries for k1=1.600000\n",
      "0.08224108437988406\n",
      "Running queries for k1=1.700000\n",
      "0.08186170576579523\n",
      "Running queries for k1=1.800000\n",
      "0.08170371370221988\n",
      "Running queries for k1=1.900000\n",
      "0.0815786692173334\n",
      "Running queries for k1=2.000000\n",
      "0.08112993377605558\n"
     ]
    }
   ],
   "source": [
    "map_scores = []\n",
    "x = []\n",
    "h={}\n",
    "for i in range(11):\n",
    "    k1 = 1 + round(i / 10, 2) \n",
    "    x.append(k1)\n",
    "    print(\"Running queries for k1=%f\" % k1)\n",
    "    SIM = {\"similarity\": {\"default\": { \"type\": \"BM25\",\"b\": 0.1,\"k1\": k1}}}\n",
    "    es.indices.close(index=INDEX_NAME)\n",
    "    es.indices.put_settings(index=INDEX_NAME, body=SIM)\n",
    "    es.indices.open(index=INDEX_NAME)\n",
    "    time.sleep(2)\n",
    "    # TODO run retrieval using k1=1.2 and b\n",
    "    #es.search(index=INDEX_NAME, q=query, df=\"content\", _source=False, size=200).get('hits', {})\n",
    "    f = open(OUTPUT_FILE, 'w')\n",
    "    f.write('QueryId,DocumentId\\n') \n",
    "    for q_id, query in queries.items():\n",
    "        res = es.search(index=INDEX_NAME, doc_type=DOC_TYPE, q=query, df=\"content\", size=100,  filter_path=['hits.hits._id'])\n",
    "        for i in res['hits']['hits']:\n",
    "            for j in i:\n",
    "                f.write(str(q_id)+\",\"+i[j]+'\\n')\n",
    "    f.close() \n",
    "    # TODO evaluate the ranking\n",
    "    \n",
    "    map_score = eval(QRELS_FILE, OUTPUT_FILE)\n",
    "    h[k1] = map_score\n",
    "    map_scores.append(map_score)"
   ]
  },
  {
   "cell_type": "code",
   "execution_count": 171,
   "metadata": {
    "collapsed": false
   },
   "outputs": [
    {
     "name": "stdout",
     "output_type": "stream",
     "text": [
      "0.083\n",
      "0.083\n",
      "0.083\n",
      "0.083\n",
      "0.083\n",
      "0.083\n",
      "0.082\n",
      "0.082\n",
      "0.082\n",
      "0.082\n",
      "0.081\n"
     ]
    },
    {
     "data": {
      "image/png": "[encoded data removed]",
      "text/plain": [
       "<matplotlib.figure.Figure at 0x1819e360128>"
      ]
     },
     "metadata": {},
     "output_type": "display_data"
    }
   ],
   "source": [
    "k1_map=list(h.values())\n",
    "z=0\n",
    "for d in range(0,11,1):\n",
    "    k1_map[z] = \"%.3f\" % k1_map[z]\n",
    "    print(k1_map[z])\n",
    "    z+=1\n",
    "#print(y)\n",
    "\n",
    "#plt.hist(y,bins =7)\n",
    "\n",
    "#range=([-1,-0.5],[-0.5,-0.25],[-0.25,-0.05],[-0.5,0.5],[0.5,0.25],[0.25,0.5],[0.5,1]),,)\n",
    "#plt.show()\n",
    "#plt.figure(figsize=(20,8))\n",
    "#plt.bar(range(len(dictionary)), sorted(dictionary.values(),reverse= True), align='center')\n",
    "#plt.xticks(range(len(dictionary)), sorted(dictionary, key=dictionary.get,reverse=True))\n",
    "#plt.ylim(-0.75,0.75)\n",
    "\n",
    "#plt.show()\n",
    "#plt.bar(range(len(map_scores)),map_scores )\n",
    "#plt.xticks(x)\n",
    "#plt.yticks(range(len(map_scores)), b_map )\n",
    "\n",
    "plt.bar(range(len(h)), h.values(), align=\"center\")\n",
    "plt.xticks(range(len(h)), list(h.keys()))\n",
    "plt.show()"
   ]
  },
  {
   "cell_type": "markdown",
   "metadata": {},
   "source": [
    "**TODO** Plot MAP scores for the various k1 values"
   ]
  }
 ],
 "metadata": {
  "kernelspec": {
   "display_name": "Python 3",
   "language": "python",
   "name": "python3"
  },
  "language_info": {
   "codemirror_mode": {
    "name": "ipython",
    "version": 3
   },
   "file_extension": ".py",
   "mimetype": "text/x-python",
   "name": "python",
   "nbconvert_exporter": "python",
   "pygments_lexer": "ipython3",
   "version": "3.6.0"
  }
 },
 "nbformat": 4,
 "nbformat_minor": 2
}
