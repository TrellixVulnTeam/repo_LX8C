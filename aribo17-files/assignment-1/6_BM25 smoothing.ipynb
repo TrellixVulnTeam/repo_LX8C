{
 "cells": [
  {
   "cell_type": "markdown",
   "metadata": {},
   "source": [
    "# Changing retrieval model parameters in Elasticsearch\n",
    "\n",
    "This assignment uses the `aquaint` index (assuming you've already created that for Assignment 1). Alternatively, any other Elasticsearch index may be used."
   ]
  },
  {
   "cell_type": "code",
   "execution_count": 1,
   "metadata": {
    "collapsed": true
   },
   "outputs": [],
   "source": [
    "from elasticsearch import Elasticsearch"
   ]
  },
  {
   "cell_type": "code",
   "execution_count": 2,
   "metadata": {
    "collapsed": true
   },
   "outputs": [],
   "source": [
    "INDEX_NAME = \"aquaint\"\n",
    "DOC_TYPE = \"doc\"\n",
    "FIELD = \"content\""
   ]
  },
  {
   "cell_type": "code",
   "execution_count": 3,
   "metadata": {
    "collapsed": true
   },
   "outputs": [],
   "source": [
    "es = Elasticsearch()"
   ]
  },
  {
   "cell_type": "code",
   "execution_count": 4,
   "metadata": {
    "collapsed": true
   },
   "outputs": [],
   "source": [
    "QUERY_FILE = \"data/queries.txt\"\n",
    "OUTPUT_FILE = \"data/bm_optimized.txt\""
   ]
  },
  {
   "cell_type": "markdown",
   "metadata": {},
   "source": [
    "### Small utility function for printing document rankings formatted"
   ]
  },
  {
   "cell_type": "code",
   "execution_count": 5,
   "metadata": {
    "collapsed": false
   },
   "outputs": [],
   "source": [
    "es = Elasticsearch()"
   ]
  },
  {
   "cell_type": "markdown",
   "metadata": {},
   "source": []
  },
  {
   "cell_type": "code",
   "execution_count": 6,
   "metadata": {
    "collapsed": true
   },
   "outputs": [],
   "source": [
    "def load_queries(query_file):\n",
    "    queries = {}\n",
    "    with open(query_file, \"r\") as fin:\n",
    "        for line in fin.readlines():\n",
    "            qid, query = line.strip().split(\" \", 1)\n",
    "            queries[qid] = query\n",
    "    return queries"
   ]
  },
  {
   "cell_type": "code",
   "execution_count": 7,
   "metadata": {
    "collapsed": false
   },
   "outputs": [],
   "source": [
    "queries = load_queries(QUERY_FILE)"
   ]
  },
  {
   "cell_type": "markdown",
   "metadata": {},
   "source": [
    "### Changing BM25 parameters"
   ]
  },
  {
   "cell_type": "markdown",
   "metadata": {},
   "source": [
    "Change the default similarity function"
   ]
  },
  {
   "cell_type": "code",
   "execution_count": 8,
   "metadata": {
    "collapsed": true
   },
   "outputs": [],
   "source": [
    "SIM = {\n",
    "    \"similarity\": {\n",
    "        \"default\": { \n",
    "            \"type\": \"BM25\",\n",
    "            \"b\": 0.1,\n",
    "            \"k1\": 0.8\n",
    "        }\n",
    "    }\n",
    "}"
   ]
  },
  {
   "cell_type": "markdown",
   "metadata": {},
   "source": [
    "A custom similarity can be updated by closing the index, updating the index settings, and reopening the index."
   ]
  },
  {
   "cell_type": "code",
   "execution_count": 9,
   "metadata": {
    "collapsed": false
   },
   "outputs": [
    {
     "data": {
      "text/plain": [
       "{'acknowledged': True}"
      ]
     },
     "execution_count": 9,
     "metadata": {},
     "output_type": "execute_result"
    }
   ],
   "source": [
    "es.indices.close(index=INDEX_NAME)\n",
    "es.indices.put_settings(index=INDEX_NAME, body=SIM)\n",
    "es.indices.open(index=INDEX_NAME)"
   ]
  },
  {
   "cell_type": "markdown",
   "metadata": {},
   "source": [
    "You might need to wait a little bit before firing the first query. If you're getting errors from Elasticsearch, you can use the code below to wait 100ms."
   ]
  },
  {
   "cell_type": "code",
   "execution_count": 10,
   "metadata": {
    "collapsed": true
   },
   "outputs": [],
   "source": [
    "from time import sleep\n",
    "sleep(3)"
   ]
  },
  {
   "cell_type": "markdown",
   "metadata": {},
   "source": [
    "Then run the query the same way as before"
   ]
  },
  {
   "cell_type": "code",
   "execution_count": 11,
   "metadata": {
    "collapsed": false
   },
   "outputs": [],
   "source": [
    "f = open(OUTPUT_FILE, 'w')\n",
    "f.write('QueryId,DocumentId\\n')  \n",
    "\n",
    "for q_id, query in queries.items():\n",
    "    res = es.search(index=INDEX_NAME, doc_type=DOC_TYPE, q=query, df=\"content\", size=100,  filter_path=['hits.hits._id'])\n",
    "\n",
    "    docIDs =[]  #  [x for x in res['hits']['hits']]\n",
    "    \n",
    "    for i in res['hits']['hits']:\n",
    "        for j in i:\n",
    "            docIDs.append(i[j])\n",
    "            f.write(str(q_id) + \",\" + i[j]+'\\n')\n",
    "\n",
    "    f.write(str(q_id) + \",\" + \" \".join(docIDs))\n",
    "    f.write('\\n')\n",
    "f.close() \n",
    "\n"
   ]
  },
  {
   "cell_type": "code",
   "execution_count": null,
   "metadata": {
    "collapsed": false
   },
   "outputs": [],
   "source": []
  },
  {
   "cell_type": "markdown",
   "metadata": {},
   "source": [
    "You can also retrieve the current similarity settings."
   ]
  },
  {
   "cell_type": "code",
   "execution_count": 12,
   "metadata": {
    "collapsed": false
   },
   "outputs": [
    {
     "data": {
      "text/plain": [
       "{'aquaint': {'settings': {'index': {'creation_date': '1504521411837',\n",
       "    'number_of_replicas': '1',\n",
       "    'number_of_shards': '1',\n",
       "    'provided_name': 'aquaint',\n",
       "    'similarity': {'default': {'b': '0.1', 'k1': '0.8', 'type': 'BM25'}},\n",
       "    'uuid': 'QeZeETRURrK7Jb61Zb-dcA',\n",
       "    'version': {'created': '5050299'}}}}}"
      ]
     },
     "execution_count": 12,
     "metadata": {},
     "output_type": "execute_result"
    }
   ],
   "source": [
    "es.indices.get_settings(index=INDEX_NAME)"
   ]
  },
  {
   "cell_type": "markdown",
   "metadata": {},
   "source": [
    "### Using a different retrieval model"
   ]
  },
  {
   "cell_type": "markdown",
   "metadata": {},
   "source": [
    "Similarly to above, you may also change the retrieval model that is used. Elasticsearch implements, among others, language modeling (LM) and divergence from randomness (DFR).\n",
    "\n",
    "See: https://www.elastic.co/guide/en/elasticsearch/reference/current/index-modules-similarity.html"
   ]
  },
  {
   "cell_type": "markdown",
   "metadata": {},
   "source": [
    "Use Language Modeling with Jelinek-Mercer smoothing and with lambda=0.2. Check the retrieval scores change for the top-10 documents."
   ]
  },
  {
   "cell_type": "code",
   "execution_count": 13,
   "metadata": {
    "collapsed": true
   },
   "outputs": [],
   "source": [
    "# SIM = {\n",
    "#     \"similarity\": {\n",
    "#         \"default\": {\n",
    "#             \"type\": \"LMJelinekMercer\",\n",
    "#             \"lambda\": 0.2\n",
    "#         }\n",
    "#     }\n",
    "# }"
   ]
  },
  {
   "cell_type": "code",
   "execution_count": 14,
   "metadata": {
    "collapsed": false
   },
   "outputs": [],
   "source": [
    "# es.indices.close(index=INDEX_NAME)\n",
    "# es.indices.put_settings(index=INDEX_NAME, body=SIM)\n",
    "# es.indices.open(index=INDEX_NAME)"
   ]
  },
  {
   "cell_type": "code",
   "execution_count": 15,
   "metadata": {
    "collapsed": true
   },
   "outputs": [],
   "source": [
    "# sleep(0.1)"
   ]
  },
  {
   "cell_type": "code",
   "execution_count": 16,
   "metadata": {
    "collapsed": false
   },
   "outputs": [],
   "source": [
    "# res = es.search(index=INDEX_NAME, q=query, df=FIELD, _source=False, size=10).get(\"hits\", {}).get(\"hits\", {})"
   ]
  },
  {
   "cell_type": "code",
   "execution_count": null,
   "metadata": {
    "collapsed": false
   },
   "outputs": [],
   "source": []
  },
  {
   "cell_type": "markdown",
   "metadata": {},
   "source": [
    "### Changing back to default similarity\n",
    "\n",
    "**Important** you need to change back to the default similarity manually."
   ]
  },
  {
   "cell_type": "code",
   "execution_count": 17,
   "metadata": {
    "collapsed": true
   },
   "outputs": [],
   "source": [
    "SIM = {\n",
    "    \"similarity\": {\n",
    "        \"default\": {\n",
    "            \"type\": \"BM25\",\n",
    "            \"b\": 0.75,\n",
    "            \"k1\": 1.2\n",
    "        }\n",
    "    }\n",
    "}"
   ]
  },
  {
   "cell_type": "code",
   "execution_count": 18,
   "metadata": {
    "collapsed": false
   },
   "outputs": [
    {
     "data": {
      "text/plain": [
       "{'acknowledged': True}"
      ]
     },
     "execution_count": 18,
     "metadata": {},
     "output_type": "execute_result"
    }
   ],
   "source": [
    "es.indices.close(index=INDEX_NAME)\n",
    "es.indices.put_settings(index=INDEX_NAME, body=SIM)\n",
    "es.indices.open(index=INDEX_NAME)"
   ]
  },
  {
   "cell_type": "code",
   "execution_count": null,
   "metadata": {
    "collapsed": false
   },
   "outputs": [],
   "source": []
  },
  {
   "cell_type": "code",
   "execution_count": null,
   "metadata": {
    "collapsed": true
   },
   "outputs": [],
   "source": []
  }
 ],
 "metadata": {
  "kernelspec": {
   "display_name": "Python 3",
   "language": "python",
   "name": "python3"
  },
  "language_info": {
   "codemirror_mode": {
    "name": "ipython",
    "version": 3
   },
   "file_extension": ".py",
   "mimetype": "text/x-python",
   "name": "python",
   "nbconvert_exporter": "python",
   "pygments_lexer": "ipython3",
   "version": "3.6.0"
  }
 },
 "nbformat": 4,
 "nbformat_minor": 2
}
