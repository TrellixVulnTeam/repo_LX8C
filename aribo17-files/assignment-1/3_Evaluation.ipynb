{
 "cells": [
  {
   "cell_type": "markdown",
   "metadata": {},
   "source": [
    "# Assignment 1 - Part 2\n",
    "\n",
    "Evaluation of retrieval results."
   ]
  },
  {
   "cell_type": "code",
   "execution_count": 9,
   "metadata": {
    "collapsed": true
   },
   "outputs": [],
   "source": [
    "import numpy as np\n",
    "import matplotlib.mlab as mlab\n",
    "import matplotlib.pyplot as plt\n",
    "\n",
    "RANKING_FILE = \"data/mlm_test.txt\"  # file with mlm the document rankings\n",
    "QRELS_FILE = \"data/qrels2.csv\"  # file with the relevance judgments (ground truth)  \n",
    "RANKING_FILE_2 = \"data/baseline.txt\" #  file with bm25 default rankings"
   ]
  },
  {
   "cell_type": "markdown",
   "metadata": {},
   "source": [
    "**TODO** Complete the function that calculates evaluation metrics for a given a ranking (`ranking`) against the ground truth (`gt`). It should return the results as a dictionary, where the key is the retrieval metric.\n",
    "\n",
    "(Hint: see [Task 1 of Practicum 2](https://github.com/kbalog/uis-dat630-fall2017/blob/master/practicum/practicum-2/solutions/1_Eval_binary.ipynb).)"
   ]
  },
  {
   "cell_type": "code",
   "execution_count": 10,
   "metadata": {
    "collapsed": false
   },
   "outputs": [],
   "source": [
    "def eval_query(ranking, gt):\n",
    "\n",
    "    # TODO \n",
    "    p10, ap, rr, num_rel= 0, 0, 0, 0 \n",
    "    list_ap = []\n",
    "    for i, doc_id in enumerate(ranking):\n",
    "        if doc_id in gt:  # doc is relevant\n",
    "            num_rel += 1  \n",
    "            pi = num_rel / (i + 1)  # P@i\n",
    "            ap += pi  # AP\n",
    "            ap_2 = ap\n",
    "            ap_2 /= len(gt)\n",
    "            \n",
    "            if i < 10:  # P@10\n",
    "                p10 += 1\n",
    "            if rr == 0:  # Reciprocal rank\n",
    "                rr = 1 / (i + 1)\n",
    "            list_ap.append(ap_2)\n",
    "\n",
    "    p10 /=10\n",
    "    ap /= len(gt)\n",
    "    \n",
    "\n",
    "    return {\"P10\": p10, \"AP\": ap, \"RR\": rr, \"list\": list_ap}\n",
    "\n",
    "\n",
    "    "
   ]
  },
  {
   "cell_type": "markdown",
   "metadata": {},
   "source": [
    "Function that evaluates an output file, which contains rankings for a set of queries.\n",
    "\n",
    "**TODO** It is almost complete, you just need to add the computation of mean scores (over the entire query set)."
   ]
  },
  {
   "cell_type": "code",
   "execution_count": 11,
   "metadata": {
    "collapsed": false
   },
   "outputs": [],
   "source": [
    "def eval(gt_file, output_file, output_file_2):\n",
    "    # load data from ground truth file\n",
    "    gt = {}  # holds a list of relevant documents for each queryID\n",
    "    with open(gt_file, \"r\") as fin:\n",
    "        header = fin.readline().strip()\n",
    "        if header != \"queryID,docIDs\":\n",
    "            raise Exception(\"Incorrect file format!\")\n",
    "        for line in fin.readlines():\n",
    "            qid, docids = line.strip().split(\",\")\n",
    "            gt[qid] = docids.split()\n",
    "            \n",
    "    # load data from output file\n",
    "    output = {}\n",
    "    with open(output_file, \"r\") as fin:\n",
    "        header = fin.readline().strip()\n",
    "        if header != \"QueryId,DocumentId\":\n",
    "            raise Exception(\"Incorrect file format!\")\n",
    "        for line in fin.readlines():\n",
    "            qid, docid = line.strip().split(\",\")\n",
    "            if qid not in output:\n",
    "                output[qid] = []\n",
    "            output[qid].append(docid)\n",
    "            \n",
    "    # load data from second output\n",
    "    output2 = {}\n",
    "    with open(output_file_2, \"r\") as fin:\n",
    "        header = fin.readline().strip()\n",
    "        if header != \"QueryId,DocumentId\":\n",
    "            raise Exception(\"Incorrect file format!\")\n",
    "        for line in fin.readlines():\n",
    "            qid, docid = line.strip().split(\",\")\n",
    "            if qid not in output2:\n",
    "                output2[qid] = []\n",
    "            output2[qid].append(docid)\n",
    "            \n",
    "    \n",
    "    # evaluate each query that is in the ground truth\n",
    "    print(\"  QID  P@10   (M)AP  (M)RR\")\n",
    "    sum_p10, sum_ap, sum_rr, length = 0, 0, 0, 0\n",
    "    sum_p10_2, sum_ap_2, sum_rr_2 = 0, 0, 0\n",
    "    x = {}\n",
    "    for qid in sorted(gt.keys()):\n",
    "        res = eval_query(output.get(qid, []), gt.get(qid, []))\n",
    "        res2 = eval_query(output2.get(qid, []), gt.get(qid, []))\n",
    "        deltaAP = (res[\"AP\"])-(res2[\"AP\"])\n",
    "        x[qid] = deltaAP\n",
    "        print(\"%5s %6.3f %6.3f %6.3f\" % (qid, res[\"P10\"], res[\"AP\"], res[\"RR\"]))\n",
    "#         print(\"%5s %6.3f %6.3f %6.3f\" % (qid, res2[\"P10\"], res2[\"AP\"], res2[\"RR\"]))\n",
    "        sum_p10 += res[\"P10\"]\n",
    "        sum_ap += res[\"AP\"]\n",
    "        sum_rr += res[\"RR\"]\n",
    "        sum_p10_2 += res2[\"P10\"]\n",
    "        sum_ap_2 += res2[\"AP\"]\n",
    "        sum_rr_2 += res2[\"RR\"]\n",
    "        length += 1\n",
    "#         print(\"%5s %1s %6.3f\" % (\"Delta AP:\",qid, deltaAP))\n",
    "    \n",
    "    # TODO compute averages over the entire query set\n",
    "    sum_p10 = sum_p10/length\n",
    "    sum_ap = sum_ap/length\n",
    "    sum_rr = sum_rr/length\n",
    "    \n",
    "    sum_p10_2 = sum_p10_2/length\n",
    "    sum_ap_2 = sum_ap_2/length\n",
    "    sum_rr_2 = sum_rr_2/length\n",
    "    \n",
    "    \n",
    "    # print averages\n",
    "    print(\"%5s %6.3f %6.3f %6.3f\" % (\"ALL\", sum_p10, sum_ap, sum_rr))\n",
    "#     print(\"%5s %6.3f %6.3f %6.3f\" % (\"ALL\", sum_p10_2, sum_ap_2, sum_rr_2))\n",
    "    \n",
    "   \n",
    "    \n",
    "    #plot graph\n",
    "    \n",
    "\n",
    "    plt.hist(list(x.values()), bins=[-1, -0.5, -0.25, -0.05, 0.05, 0.25, 0.5,  1])\n",
    "    \n",
    "    plt.show()\n",
    "    plt.figure(figsize=(20, 8))\n",
    "    plt.bar(range(len(x)), sorted(list(x.values()), reverse=True))\n",
    "    plt.xticks(range(len(x)), sorted(x, key=x.get, reverse=True))\n",
    "    plt.show()\n",
    "    \n",
    "   \n",
    "    "
   ]
  },
  {
   "cell_type": "markdown",
   "metadata": {},
   "source": [
    "### Main"
   ]
  },
  {
   "cell_type": "code",
   "execution_count": 12,
   "metadata": {
    "collapsed": false
   },
   "outputs": [
    {
     "name": "stdout",
     "output_type": "stream",
     "text": [
      "  QID  P@10   (M)AP  (M)RR\n",
      "  303  0.400  0.234  1.000\n",
      "  307  0.000  0.013  0.040\n",
      "  310  0.100  0.022  0.200\n",
      "  314  0.000  0.000  0.000\n",
      "  322  0.000  0.002  0.048\n",
      "  325  0.000  0.000  0.000\n",
      "  330  0.000  0.000  0.000\n",
      "  336  0.200  0.173  0.500\n",
      "  341  0.100  0.033  0.111\n",
      "  344  0.000  0.000  0.000\n",
      "  347  0.400  0.053  1.000\n",
      "  353  0.000  0.000  0.000\n",
      "  354  0.400  0.007  0.250\n",
      "  362  0.600  0.227  1.000\n",
      "  363  0.500  0.050  1.000\n",
      "  367  0.000  0.023  0.059\n",
      "  372  0.000  0.000  0.000\n",
      "  374  0.600  0.261  1.000\n",
      "  383  0.300  0.065  1.000\n",
      "  389  0.000  0.000  0.000\n",
      "  393  0.200  0.066  0.200\n",
      "  399  0.700  0.086  0.500\n",
      "  401  0.100  0.014  1.000\n",
      "  404  0.100  0.027  0.200\n",
      "  408  0.100  0.007  0.143\n",
      "  409  0.300  0.096  1.000\n",
      "  416  0.300  0.180  1.000\n",
      "  419  0.000  0.008  0.083\n",
      "  426  0.200  0.127  1.000\n",
      "  427  0.800  0.578  1.000\n",
      "  433  0.300  0.174  1.000\n",
      "  435  0.000  0.017  0.077\n",
      "  436  0.100  0.017  0.200\n",
      "  439  0.000  0.002  0.043\n",
      "  443  0.300  0.069  0.500\n",
      "  448  0.000  0.001  0.032\n",
      "  622  0.800  0.306  1.000\n",
      "  625  0.000  0.001  0.013\n",
      "  638  0.000  0.036  0.077\n",
      "  639  0.000  0.007  0.091\n",
      "  648  0.500  0.303  0.500\n",
      "  650  0.200  0.238  1.000\n",
      "  651  0.000  0.001  0.023\n",
      "  658  0.300  0.114  1.000\n",
      "  689  0.100  0.092  1.000\n",
      "  ALL  0.200  0.083  0.442\n"
     ]
    },
    {
     "data": {
      "image/png": "[encoded data removed]",
      "text/plain": [
       "<matplotlib.figure.Figure at 0x1e0961f17f0>"
      ]
     },
     "metadata": {},
     "output_type": "display_data"
    },
    {
     "data": {
      "image/png": "[encoded data removed]",
      "text/plain": [
       "<matplotlib.figure.Figure at 0x1e0961cf668>"
      ]
     },
     "metadata": {},
     "output_type": "display_data"
    }
   ],
   "source": [
    "eval(QRELS_FILE, RANKING_FILE, RANKING_FILE_2)\n",
    "\n",
    "\n",
    "\n",
    "\n",
    "\n"
   ]
  },
  {
   "cell_type": "code",
   "execution_count": null,
   "metadata": {
    "collapsed": true
   },
   "outputs": [],
   "source": []
  },
  {
   "cell_type": "code",
   "execution_count": null,
   "metadata": {
    "collapsed": true
   },
   "outputs": [],
   "source": []
  }
 ],
 "metadata": {
  "kernelspec": {
   "display_name": "Python 3",
   "language": "python",
   "name": "python3"
  },
  "language_info": {
   "codemirror_mode": {
    "name": "ipython",
    "version": 3
   },
   "file_extension": ".py",
   "mimetype": "text/x-python",
   "name": "python",
   "nbconvert_exporter": "python",
   "pygments_lexer": "ipython3",
   "version": "3.6.0"
  }
 },
 "nbformat": 4,
 "nbformat_minor": 2
}
