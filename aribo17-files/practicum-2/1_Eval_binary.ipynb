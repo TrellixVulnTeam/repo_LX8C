{
 "cells": [
  {
   "cell_type": "markdown",
   "metadata": {},
   "source": [
    "# Retrieval evaluation, binary relevance\n",
    "\n",
    "  - Compute retrieval evaluation metrics using binary relevance: P@5, P@10, Average Precision, and Reciprocal Rank\n",
    "  - Compute the metrics for each query individually, as well as the averages over the entire query set"
   ]
  },
  {
   "cell_type": "markdown",
   "metadata": {},
   "source": [
    "### Rankings produced for each query\n",
    "\n",
    "The key is the queryID, the value is a list of docIDs "
   ]
  },
  {
   "cell_type": "code",
   "execution_count": 1,
   "metadata": {
    "collapsed": true
   },
   "outputs": [],
   "source": [
    "rankings = {\n",
    "    \"q1\": [1, 2, 4, 5, 3, 6, 9, 8, 10, 7],\n",
    "    \"q2\": [1, 2, 4, 5, 3, 9, 8, 6, 10, 7],\n",
    "    \"q3\": [1, 7, 4, 5, 3, 6, 9, 8, 10, 2]\n",
    "}"
   ]
  },
  {
   "cell_type": "markdown",
   "metadata": {},
   "source": [
    "### Ground truth\n",
    "\n",
    "The key is the queryID, the value is a list of documents that are relevant for that query;  documents not listed here are irrelevant."
   ]
  },
  {
   "cell_type": "code",
   "execution_count": 2,
   "metadata": {
    "collapsed": false
   },
   "outputs": [],
   "source": [
    "gtruth = {\n",
    "    \"q1\": [1, 3],\n",
    "    \"q2\": [2, 4, 5, 6],\n",
    "    \"q3\": [7]\n",
    "}"
   ]
  },
  {
   "cell_type": "markdown",
   "metadata": {},
   "source": [
    "## Computing evaluation metrics"
   ]
  },
  {
   "cell_type": "code",
   "execution_count": 12,
   "metadata": {
    "collapsed": false
   },
   "outputs": [
    {
     "name": "stdout",
     "output_type": "stream",
     "text": [
      "Evaluating q1 ranking: [1, 2, 4, 5, 3, 6, 9, 8, 10, 7] ground truth: [1, 3]\n",
      "Evaluating q2 ranking: [1, 2, 4, 5, 3, 9, 8, 6, 10, 7] ground truth: [2, 4, 5, 6]\n",
      "Evaluating q3 ranking: [1, 7, 4, 5, 3, 6, 9, 8, 10, 2] ground truth: [7]\n",
      "Average\n",
      "[0.0, 0.5, 0.3333333333333333, 0.25, 0.2, 0.16666666666666666, 0.14285714285714285, 0.125, 0.1111111111111111, 0.1]\n"
     ]
    }
   ],
   "source": [
    "\n",
    "for qid, ranking in sorted(rankings.items()):\n",
    "    gt = gtruth[qid]    \n",
    "    print(\"Evaluating\", qid, \"ranking:\", ranking, \"ground truth:\", gt)\n",
    "    \n",
    "    p5, p10, ap, rr, rel_num = 0, 0, 0, 0, 0\n",
    "    for index, val in enumerate(ranking):\n",
    "        if val in gt:\n",
    "            rel_num += 1\n",
    "            pi = rel_num/(index+1) #P@i\n",
    "            ap += pi #AP\n",
    "            \n",
    "            if index <5:\n",
    "                p5 += 1\n",
    "            if index <10:\n",
    "                p10 += 1\n",
    "            if rr == 0:\n",
    "                rr = 1/(index+1)\n",
    "    p5 /= 5\n",
    "    \n",
    "        prec = len([1 for x in ranking[:index+1] if x in gt]) /(index+1)\n",
    "        precision.append(prec)\n",
    "    \n",
    "    # TODO\n",
    "    # - Average precision\n",
    "    # - Precision@5\n",
    "    # - Precision@10\n",
    "    # - Reciprocal rank    \n",
    "print(\"Average\")\n",
    "print(precision)\n",
    "# TODO (means over the entire query set)\n",
    "# - Mean Average precision\n",
    "# - Precision@5\n",
    "# - Precision@10\n",
    "# - Mean Reciprocal rank\n"
   ]
  },
  {
   "cell_type": "code",
   "execution_count": null,
   "metadata": {
    "collapsed": true
   },
   "outputs": [],
   "source": []
  },
  {
   "cell_type": "code",
   "execution_count": null,
   "metadata": {
    "collapsed": true
   },
   "outputs": [],
   "source": []
  }
 ],
 "metadata": {
  "kernelspec": {
   "display_name": "Python 3",
   "language": "python",
   "name": "python3"
  },
  "language_info": {
   "codemirror_mode": {
    "name": "ipython",
    "version": 3
   },
   "file_extension": ".py",
   "mimetype": "text/x-python",
   "name": "python",
   "nbconvert_exporter": "python",
   "pygments_lexer": "ipython3",
   "version": "3.6.0"
  }
 },
 "nbformat": 4,
 "nbformat_minor": 0
}
