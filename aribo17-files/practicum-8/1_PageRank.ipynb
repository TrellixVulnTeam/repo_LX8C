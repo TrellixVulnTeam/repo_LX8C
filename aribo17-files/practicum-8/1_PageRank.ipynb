{
 "cells": [
  {
   "cell_type": "markdown",
   "metadata": {},
   "source": [
    "# PageRank computation\n",
    "\n",
    "This is the same as the paper-based [exercise that was given at Lecture 11](https://github.com/kbalog/uis-dat630-fall2017/tree/master/exercises/lecture-11). You may compare the results against the reference solution."
   ]
  },
  {
   "cell_type": "markdown",
   "metadata": {},
   "source": [
    "**Web graph 1**, given as i) the total number of nodes and ii) a list of edges (indexed from 1!)\n",
    "\n",
    "![Web graph 1](pagerank1.png)"
   ]
  },
  {
   "cell_type": "code",
   "execution_count": 19,
   "metadata": {
    "collapsed": true
   },
   "outputs": [],
   "source": [
    "G1_NODES = 3\n",
    "G1_EDGES = [(1, 2), (1, 3), (2, 3), (3, 1)]"
   ]
  },
  {
   "cell_type": "markdown",
   "metadata": {},
   "source": [
    "**Web graph 2**, given as i) the total number of nodes and ii) a list of edges (indexed from 1!)\n",
    "\n",
    "*Mind that Node 2 is a \"rank sink\"!*\n",
    "\n",
    "![Web graph 2](pagerank2.png)"
   ]
  },
  {
   "cell_type": "code",
   "execution_count": 20,
   "metadata": {
    "collapsed": true
   },
   "outputs": [],
   "source": [
    "G2_NODES = 6\n",
    "G2_EDGES = [(1, 2), (1, 3), (3, 1), (3, 2), (3, 5), (4, 5), (4, 6), (5, 4), (5, 6), (6, 4)]"
   ]
  },
  {
   "cell_type": "markdown",
   "metadata": {},
   "source": [
    "### PageRank computation\n",
    "\n",
    "Parameters:\n",
    "  - `T` is the total number of nodes\n",
    "  - `edges` is a list of edges (indexed from 1!)\n",
    "  - `q` is the random jump probability\n",
    "  - `max_iter` is the maximum number of iterations\n",
    "  \n",
    "Formula:\n",
    "\n",
    "$PR(a) = \\frac{q}{T} + (1-q) \\sum_{i=1}^n\\frac{PR(p_i)}{L(p_i)}$\n",
    "\n",
    "where\n",
    "\n",
    "  - `q` is the random jump probability\n",
    "  - `T` is the total number of nodes\n",
    "  - `L(p_i)` is the number of outgoing links of page $p_i$\n",
    "  - `PR(p_i)` is the PageRank value of page $p_i$ (from the previous iteration)\n",
    "  \n",
    "Mind that the summation goes over the pages that link to $a$."
   ]
  },
  {
   "cell_type": "code",
   "execution_count": 21,
   "metadata": {
    "collapsed": false
   },
   "outputs": [],
   "source": [
    "def pagerank(T, edges, q=0.15, max_iter=3):\n",
    "    # initialization\n",
    "    L = {}  # holds the number of outgoing edges    \n",
    "    pr = {}  # holds the PageRank score of each node\n",
    "    for node in range(1, T + 1):\n",
    "        L[node] = 0\n",
    "        pr[node] = 1 / T\n",
    "    for (node1, node2) in edges:\n",
    "        L[node1] += 1\n",
    "        \n",
    "    for i in range(max_iter):\n",
    "        # TODO: update PageRank scores\n",
    "        # Note: deal with \"rank sink\" nodes here, instead of changing the web graph\n",
    "        new_pr = {}\n",
    "        for node in range(1, T +1):\n",
    "            new_pr[node] = q/T\n",
    "            for(node1, node2) in edges:\n",
    "                if node2 == node:\n",
    "                    new_pr[node] += (1-q) * pr[node1]/L[node1]\n",
    "        \n",
    "        for node1 in range(1, T +1):\n",
    "            if L[node1]== 0:\n",
    "                new_pr[node2] += (1-q) * pr[node1]/T\n",
    "        \n",
    "        pr = dict(new_pr)\n",
    "                \n",
    "        print(\"Iteration {}:  \".format(i + 1), end=\"\")\n",
    "        for i in range(T):\n",
    "            print(\"{:d}: {:05.3f}   \".format(i + 1, pr[i + 1]), end=\"\")\n",
    "        print(\"\")  # new line\n"
   ]
  },
  {
   "cell_type": "markdown",
   "metadata": {},
   "source": [
    "#### Computing PageRank for Web graph 1"
   ]
  },
  {
   "cell_type": "code",
   "execution_count": 22,
   "metadata": {
    "collapsed": false
   },
   "outputs": [
    {
     "name": "stdout",
     "output_type": "stream",
     "text": [
      "Iteration 1:  1: 0.333   2: 0.250   3: 0.417   \n",
      "Iteration 2:  1: 0.375   2: 0.250   3: 0.375   \n",
      "Iteration 3:  1: 0.354   2: 0.260   3: 0.385   \n"
     ]
    }
   ],
   "source": [
    "pagerank(G1_NODES, G1_EDGES, q=0.5)"
   ]
  },
  {
   "cell_type": "markdown",
   "metadata": {},
   "source": [
    "#### Computing PageRank for Web graph 2"
   ]
  },
  {
   "cell_type": "code",
   "execution_count": 23,
   "metadata": {
    "collapsed": false
   },
   "outputs": [
    {
     "name": "stdout",
     "output_type": "stream",
     "text": [
      "Iteration 1:  1: 0.072   2: 0.143   3: 0.096   4: 0.261   5: 0.143   6: 0.167   \n",
      "Iteration 2:  1: 0.052   2: 0.083   3: 0.056   4: 0.248   5: 0.163   6: 0.197   \n",
      "Iteration 3:  1: 0.041   2: 0.063   3: 0.047   4: 0.273   5: 0.146   6: 0.200   \n"
     ]
    }
   ],
   "source": [
    "pagerank(G2_NODES, G2_EDGES, q=0.15)"
   ]
  }
 ],
 "metadata": {
  "kernelspec": {
   "display_name": "Python 3",
   "language": "python",
   "name": "python3"
  },
  "language_info": {
   "codemirror_mode": {
    "name": "ipython",
    "version": 3
   },
   "file_extension": ".py",
   "mimetype": "text/x-python",
   "name": "python",
   "nbconvert_exporter": "python",
   "pygments_lexer": "ipython3",
   "version": "3.6.0"
  }
 },
 "nbformat": 4,
 "nbformat_minor": 2
}
